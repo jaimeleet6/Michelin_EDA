{
 "cells": [
  {
   "cell_type": "markdown",
   "id": "finnish-pittsburgh",
   "metadata": {},
   "source": [
    "# Caso COMPAS\n",
    "\n",
    "**Jaime Fuentes Arias**"
   ]
  },
  {
   "cell_type": "markdown",
   "id": "hairy-basic",
   "metadata": {},
   "source": [
    "En este ejercicio se va a tratar de hacer un análisis exploratorio de datos (EDA) del dataset de COMPAS. Estos datos se refieren a convictos a los que se realiza un estudio para comprobar su nivel de reincidencia, para asegurar la decisión de concederles la libertad condicional. Sin embargo, se encontró en el modelo un sesgo que acrecentaba las disparidades raciales:\n",
    " \n",
    " * Era habitual que el modelo predijera falsamente a convictos de raza negra de ser futuros criminales, con una tasa o \"puntuación\" de casi el doble que los convictos de raza blanca.\n",
    " * Los convictos de raza blanca eran categorizados de menor riesgo más a menudo que los de raza negra.\n",
    " \n",
    "Vamos a averiguar cómo se comportan las variables independientes más signifiactivas, cómo influyen el la variable que define la reincidencia, *decile_score*, y extraer conclusiones de estos datos."
   ]
  },
  {
   "cell_type": "code",
   "execution_count": 1,
   "id": "contemporary-commonwealth",
   "metadata": {},
   "outputs": [],
   "source": [
    "import pandas as pd\n",
    "import numpy as np\n",
    "from plotnine import *"
   ]
  },
  {
   "cell_type": "code",
   "execution_count": 2,
   "id": "external-mozambique",
   "metadata": {},
   "outputs": [
    {
     "data": {
      "text/html": [
       "<div>\n",
       "<style scoped>\n",
       "    .dataframe tbody tr th:only-of-type {\n",
       "        vertical-align: middle;\n",
       "    }\n",
       "\n",
       "    .dataframe tbody tr th {\n",
       "        vertical-align: top;\n",
       "    }\n",
       "\n",
       "    .dataframe thead th {\n",
       "        text-align: right;\n",
       "    }\n",
       "</style>\n",
       "<table border=\"1\" class=\"dataframe\">\n",
       "  <thead>\n",
       "    <tr style=\"text-align: right;\">\n",
       "      <th></th>\n",
       "      <th>id</th>\n",
       "      <th>name</th>\n",
       "      <th>first</th>\n",
       "      <th>last</th>\n",
       "      <th>compas_screening_date</th>\n",
       "      <th>sex</th>\n",
       "      <th>dob</th>\n",
       "      <th>age</th>\n",
       "      <th>age_cat</th>\n",
       "      <th>race</th>\n",
       "      <th>...</th>\n",
       "      <th>vr_offense_date</th>\n",
       "      <th>vr_charge_desc</th>\n",
       "      <th>v_type_of_assessment</th>\n",
       "      <th>v_decile_score</th>\n",
       "      <th>v_score_text</th>\n",
       "      <th>v_screening_date</th>\n",
       "      <th>type_of_assessment</th>\n",
       "      <th>decile_score.1</th>\n",
       "      <th>score_text</th>\n",
       "      <th>screening_date</th>\n",
       "    </tr>\n",
       "  </thead>\n",
       "  <tbody>\n",
       "    <tr>\n",
       "      <th>0</th>\n",
       "      <td>1</td>\n",
       "      <td>miguel hernandez</td>\n",
       "      <td>miguel</td>\n",
       "      <td>hernandez</td>\n",
       "      <td>2013-08-14</td>\n",
       "      <td>Male</td>\n",
       "      <td>1947-04-18</td>\n",
       "      <td>69</td>\n",
       "      <td>Greater than 45</td>\n",
       "      <td>Other</td>\n",
       "      <td>...</td>\n",
       "      <td>NaT</td>\n",
       "      <td>NaN</td>\n",
       "      <td>Risk of Violence</td>\n",
       "      <td>1</td>\n",
       "      <td>Low</td>\n",
       "      <td>2013-08-14</td>\n",
       "      <td>Risk of Recidivism</td>\n",
       "      <td>1</td>\n",
       "      <td>Low</td>\n",
       "      <td>2013-08-14</td>\n",
       "    </tr>\n",
       "    <tr>\n",
       "      <th>1</th>\n",
       "      <td>2</td>\n",
       "      <td>michael ryan</td>\n",
       "      <td>michael</td>\n",
       "      <td>ryan</td>\n",
       "      <td>2014-12-31</td>\n",
       "      <td>Male</td>\n",
       "      <td>1985-02-06</td>\n",
       "      <td>31</td>\n",
       "      <td>25 - 45</td>\n",
       "      <td>Caucasian</td>\n",
       "      <td>...</td>\n",
       "      <td>NaT</td>\n",
       "      <td>NaN</td>\n",
       "      <td>Risk of Violence</td>\n",
       "      <td>2</td>\n",
       "      <td>Low</td>\n",
       "      <td>2014-12-31</td>\n",
       "      <td>Risk of Recidivism</td>\n",
       "      <td>5</td>\n",
       "      <td>Medium</td>\n",
       "      <td>2014-12-31</td>\n",
       "    </tr>\n",
       "    <tr>\n",
       "      <th>2</th>\n",
       "      <td>3</td>\n",
       "      <td>kevon dixon</td>\n",
       "      <td>kevon</td>\n",
       "      <td>dixon</td>\n",
       "      <td>2013-01-27</td>\n",
       "      <td>Male</td>\n",
       "      <td>1982-01-22</td>\n",
       "      <td>34</td>\n",
       "      <td>25 - 45</td>\n",
       "      <td>African-American</td>\n",
       "      <td>...</td>\n",
       "      <td>2013-07-05</td>\n",
       "      <td>Felony Battery (Dom Strang)</td>\n",
       "      <td>Risk of Violence</td>\n",
       "      <td>1</td>\n",
       "      <td>Low</td>\n",
       "      <td>2013-01-27</td>\n",
       "      <td>Risk of Recidivism</td>\n",
       "      <td>3</td>\n",
       "      <td>Low</td>\n",
       "      <td>2013-01-27</td>\n",
       "    </tr>\n",
       "    <tr>\n",
       "      <th>3</th>\n",
       "      <td>4</td>\n",
       "      <td>ed philo</td>\n",
       "      <td>ed</td>\n",
       "      <td>philo</td>\n",
       "      <td>2013-04-14</td>\n",
       "      <td>Male</td>\n",
       "      <td>1991-05-14</td>\n",
       "      <td>24</td>\n",
       "      <td>Less than 25</td>\n",
       "      <td>African-American</td>\n",
       "      <td>...</td>\n",
       "      <td>NaT</td>\n",
       "      <td>NaN</td>\n",
       "      <td>Risk of Violence</td>\n",
       "      <td>3</td>\n",
       "      <td>Low</td>\n",
       "      <td>2013-04-14</td>\n",
       "      <td>Risk of Recidivism</td>\n",
       "      <td>4</td>\n",
       "      <td>Low</td>\n",
       "      <td>2013-04-14</td>\n",
       "    </tr>\n",
       "    <tr>\n",
       "      <th>4</th>\n",
       "      <td>5</td>\n",
       "      <td>marcu brown</td>\n",
       "      <td>marcu</td>\n",
       "      <td>brown</td>\n",
       "      <td>2013-01-13</td>\n",
       "      <td>Male</td>\n",
       "      <td>1993-01-21</td>\n",
       "      <td>23</td>\n",
       "      <td>Less than 25</td>\n",
       "      <td>African-American</td>\n",
       "      <td>...</td>\n",
       "      <td>NaT</td>\n",
       "      <td>NaN</td>\n",
       "      <td>Risk of Violence</td>\n",
       "      <td>6</td>\n",
       "      <td>Medium</td>\n",
       "      <td>2013-01-13</td>\n",
       "      <td>Risk of Recidivism</td>\n",
       "      <td>8</td>\n",
       "      <td>High</td>\n",
       "      <td>2013-01-13</td>\n",
       "    </tr>\n",
       "  </tbody>\n",
       "</table>\n",
       "<p>5 rows × 47 columns</p>\n",
       "</div>"
      ],
      "text/plain": [
       "   id              name    first       last compas_screening_date   sex  \\\n",
       "0   1  miguel hernandez   miguel  hernandez            2013-08-14  Male   \n",
       "1   2      michael ryan  michael       ryan            2014-12-31  Male   \n",
       "2   3       kevon dixon    kevon      dixon            2013-01-27  Male   \n",
       "3   4          ed philo       ed      philo            2013-04-14  Male   \n",
       "4   5       marcu brown    marcu      brown            2013-01-13  Male   \n",
       "\n",
       "         dob  age          age_cat              race  ...  vr_offense_date  \\\n",
       "0 1947-04-18   69  Greater than 45             Other  ...              NaT   \n",
       "1 1985-02-06   31          25 - 45         Caucasian  ...              NaT   \n",
       "2 1982-01-22   34          25 - 45  African-American  ...       2013-07-05   \n",
       "3 1991-05-14   24     Less than 25  African-American  ...              NaT   \n",
       "4 1993-01-21   23     Less than 25  African-American  ...              NaT   \n",
       "\n",
       "                vr_charge_desc  v_type_of_assessment  v_decile_score  \\\n",
       "0                          NaN      Risk of Violence               1   \n",
       "1                          NaN      Risk of Violence               2   \n",
       "2  Felony Battery (Dom Strang)      Risk of Violence               1   \n",
       "3                          NaN      Risk of Violence               3   \n",
       "4                          NaN      Risk of Violence               6   \n",
       "\n",
       "   v_score_text  v_screening_date  type_of_assessment decile_score.1  \\\n",
       "0           Low        2013-08-14  Risk of Recidivism              1   \n",
       "1           Low        2014-12-31  Risk of Recidivism              5   \n",
       "2           Low        2013-01-27  Risk of Recidivism              3   \n",
       "3           Low        2013-04-14  Risk of Recidivism              4   \n",
       "4        Medium        2013-01-13  Risk of Recidivism              8   \n",
       "\n",
       "  score_text screening_date  \n",
       "0        Low     2013-08-14  \n",
       "1     Medium     2014-12-31  \n",
       "2        Low     2013-01-27  \n",
       "3        Low     2013-04-14  \n",
       "4       High     2013-01-13  \n",
       "\n",
       "[5 rows x 47 columns]"
      ]
     },
     "execution_count": 2,
     "metadata": {},
     "output_type": "execute_result"
    }
   ],
   "source": [
    "compas = pd.read_csv(\"datos/compas-scores.csv\", \n",
    "                     parse_dates=[\"compas_screening_date\", \"dob\", \"c_jail_in\",\n",
    "                                   \"c_jail_out\", \"r_jail_in\", \"r_jail_out\", \"c_offense_date\",\"c_arrest_date\",\n",
    "                                   \"r_offense_date\", \"vr_offense_date\", \"v_screening_date\", \"screening_date\"])\n",
    "compas.head()"
   ]
  },
  {
   "cell_type": "code",
   "execution_count": 3,
   "id": "filled-worthy",
   "metadata": {},
   "outputs": [
    {
     "data": {
      "text/plain": [
       "(11757, 47)"
      ]
     },
     "execution_count": 3,
     "metadata": {},
     "output_type": "execute_result"
    }
   ],
   "source": [
    "compas.shape"
   ]
  },
  {
   "cell_type": "markdown",
   "id": "collectible-automation",
   "metadata": {},
   "source": [
    "Ya vemos que tenemos un número moderado de filas, 11757 y un gran número de columnas o variables, 47. Vamos a ver el tipo de esas columnas y hacer unas primeras predicciones de su significado."
   ]
  },
  {
   "cell_type": "markdown",
   "id": "present-violin",
   "metadata": {},
   "source": [
    "## Descripción de variables"
   ]
  },
  {
   "cell_type": "code",
   "execution_count": 4,
   "id": "manual-appearance",
   "metadata": {},
   "outputs": [
    {
     "name": "stdout",
     "output_type": "stream",
     "text": [
      "<class 'pandas.core.frame.DataFrame'>\n",
      "RangeIndex: 11757 entries, 0 to 11756\n",
      "Data columns (total 47 columns):\n",
      " #   Column                   Non-Null Count  Dtype         \n",
      "---  ------                   --------------  -----         \n",
      " 0   id                       11757 non-null  int64         \n",
      " 1   name                     11757 non-null  object        \n",
      " 2   first                    11757 non-null  object        \n",
      " 3   last                     11757 non-null  object        \n",
      " 4   compas_screening_date    11757 non-null  datetime64[ns]\n",
      " 5   sex                      11757 non-null  object        \n",
      " 6   dob                      11757 non-null  datetime64[ns]\n",
      " 7   age                      11757 non-null  int64         \n",
      " 8   age_cat                  11757 non-null  object        \n",
      " 9   race                     11757 non-null  object        \n",
      " 10  juv_fel_count            11757 non-null  int64         \n",
      " 11  decile_score             11757 non-null  int64         \n",
      " 12  juv_misd_count           11757 non-null  int64         \n",
      " 13  juv_other_count          11757 non-null  int64         \n",
      " 14  priors_count             11757 non-null  int64         \n",
      " 15  days_b_screening_arrest  10577 non-null  float64       \n",
      " 16  c_jail_in                10577 non-null  datetime64[ns]\n",
      " 17  c_jail_out               10577 non-null  datetime64[ns]\n",
      " 18  c_case_number            11015 non-null  object        \n",
      " 19  c_offense_date           9157 non-null   datetime64[ns]\n",
      " 20  c_arrest_date            1858 non-null   datetime64[ns]\n",
      " 21  c_days_from_compas       11015 non-null  float64       \n",
      " 22  c_charge_degree          11757 non-null  object        \n",
      " 23  c_charge_desc            11008 non-null  object        \n",
      " 24  is_recid                 11757 non-null  int64         \n",
      " 25  num_r_cases              0 non-null      float64       \n",
      " 26  r_case_number            3703 non-null   object        \n",
      " 27  r_charge_degree          11757 non-null  object        \n",
      " 28  r_days_from_arrest       2460 non-null   float64       \n",
      " 29  r_offense_date           3703 non-null   datetime64[ns]\n",
      " 30  r_charge_desc            3643 non-null   object        \n",
      " 31  r_jail_in                2460 non-null   datetime64[ns]\n",
      " 32  r_jail_out               2460 non-null   datetime64[ns]\n",
      " 33  is_violent_recid         11757 non-null  int64         \n",
      " 34  num_vr_cases             0 non-null      float64       \n",
      " 35  vr_case_number           882 non-null    object        \n",
      " 36  vr_charge_degree         882 non-null    object        \n",
      " 37  vr_offense_date          882 non-null    datetime64[ns]\n",
      " 38  vr_charge_desc           882 non-null    object        \n",
      " 39  v_type_of_assessment     11757 non-null  object        \n",
      " 40  v_decile_score           11757 non-null  int64         \n",
      " 41  v_score_text             11752 non-null  object        \n",
      " 42  v_screening_date         11757 non-null  datetime64[ns]\n",
      " 43  type_of_assessment       11757 non-null  object        \n",
      " 44  decile_score.1           11757 non-null  int64         \n",
      " 45  score_text               11742 non-null  object        \n",
      " 46  screening_date           11757 non-null  datetime64[ns]\n",
      "dtypes: datetime64[ns](12), float64(5), int64(11), object(19)\n",
      "memory usage: 4.2+ MB\n"
     ]
    }
   ],
   "source": [
    "compas.info()"
   ]
  },
  {
   "cell_type": "markdown",
   "id": "thirty-building",
   "metadata": {},
   "source": [
    "Lo primero que llama la atención son variables repetidas en las que cambia la letra inicial (c, r, vr, v). Tras búsquedas en internet se puede concluir que:\n",
    "\n",
    " * **c**. Serían los crímenes normales, la primera vez.\n",
    " * **r**. Serían los crímenes reincidentes.\n",
    " * **v**. Crímenes violentos.\n",
    " * **vr**. Crímenes violentos y reincidentes.\n",
    " \n",
    "También nos fijamos en **num_vr_cases** y **num_r_cases** tienen todos sus valores nulos, por lo que las vamos a eliminar."
   ]
  },
  {
   "cell_type": "code",
   "execution_count": 5,
   "id": "portuguese-blair",
   "metadata": {},
   "outputs": [],
   "source": [
    "compas = compas.drop(columns=[\"num_r_cases\", \"num_vr_cases\"])"
   ]
  },
  {
   "cell_type": "markdown",
   "id": "third-genesis",
   "metadata": {},
   "source": [
    "### Variables de identificación\n",
    "\n",
    "Estas son **id**, **name**, **first**, **last**, **dob**. Podemos decir que si los nombres son únicos para la persona (los que coincidan comprobameros más tarde que pertenecen a personas distintas), esta \"cuatriada\" es el identificador único para cada convicto."
   ]
  },
  {
   "cell_type": "code",
   "execution_count": 6,
   "id": "valuable-humor",
   "metadata": {},
   "outputs": [
    {
     "data": {
      "text/plain": [
       "173"
      ]
     },
     "execution_count": 6,
     "metadata": {},
     "output_type": "execute_result"
    }
   ],
   "source": [
    "compas.duplicated([\"name\"]).sum()"
   ]
  },
  {
   "cell_type": "markdown",
   "id": "clear-romania",
   "metadata": {},
   "source": [
    "Vemos que hay 173 nombres repetidos, vamos a ver cuáles son."
   ]
  },
  {
   "cell_type": "code",
   "execution_count": 7,
   "id": "improving-salem",
   "metadata": {},
   "outputs": [
    {
     "data": {
      "text/html": [
       "<div>\n",
       "<style scoped>\n",
       "    .dataframe tbody tr th:only-of-type {\n",
       "        vertical-align: middle;\n",
       "    }\n",
       "\n",
       "    .dataframe tbody tr th {\n",
       "        vertical-align: top;\n",
       "    }\n",
       "\n",
       "    .dataframe thead th {\n",
       "        text-align: right;\n",
       "    }\n",
       "</style>\n",
       "<table border=\"1\" class=\"dataframe\">\n",
       "  <thead>\n",
       "    <tr style=\"text-align: right;\">\n",
       "      <th></th>\n",
       "      <th>id</th>\n",
       "      <th>name</th>\n",
       "      <th>first</th>\n",
       "      <th>last</th>\n",
       "      <th>compas_screening_date</th>\n",
       "      <th>sex</th>\n",
       "      <th>dob</th>\n",
       "      <th>age</th>\n",
       "      <th>age_cat</th>\n",
       "      <th>race</th>\n",
       "      <th>...</th>\n",
       "      <th>vr_offense_date</th>\n",
       "      <th>vr_charge_desc</th>\n",
       "      <th>v_type_of_assessment</th>\n",
       "      <th>v_decile_score</th>\n",
       "      <th>v_score_text</th>\n",
       "      <th>v_screening_date</th>\n",
       "      <th>type_of_assessment</th>\n",
       "      <th>decile_score.1</th>\n",
       "      <th>score_text</th>\n",
       "      <th>screening_date</th>\n",
       "    </tr>\n",
       "  </thead>\n",
       "  <tbody>\n",
       "    <tr>\n",
       "      <th>1037</th>\n",
       "      <td>1038</td>\n",
       "      <td>anthony smith</td>\n",
       "      <td>anthony</td>\n",
       "      <td>smith</td>\n",
       "      <td>2014-07-28</td>\n",
       "      <td>Male</td>\n",
       "      <td>1968-02-08</td>\n",
       "      <td>48</td>\n",
       "      <td>Greater than 45</td>\n",
       "      <td>Caucasian</td>\n",
       "      <td>...</td>\n",
       "      <td>NaT</td>\n",
       "      <td>NaN</td>\n",
       "      <td>Risk of Violence</td>\n",
       "      <td>1</td>\n",
       "      <td>Low</td>\n",
       "      <td>2014-07-28</td>\n",
       "      <td>Risk of Recidivism</td>\n",
       "      <td>1</td>\n",
       "      <td>Low</td>\n",
       "      <td>2014-07-28</td>\n",
       "    </tr>\n",
       "    <tr>\n",
       "      <th>2021</th>\n",
       "      <td>2022</td>\n",
       "      <td>james rogers</td>\n",
       "      <td>james</td>\n",
       "      <td>rogers</td>\n",
       "      <td>2014-07-03</td>\n",
       "      <td>Male</td>\n",
       "      <td>1956-01-29</td>\n",
       "      <td>60</td>\n",
       "      <td>Greater than 45</td>\n",
       "      <td>Hispanic</td>\n",
       "      <td>...</td>\n",
       "      <td>NaT</td>\n",
       "      <td>NaN</td>\n",
       "      <td>Risk of Violence</td>\n",
       "      <td>1</td>\n",
       "      <td>Low</td>\n",
       "      <td>2014-07-03</td>\n",
       "      <td>Risk of Recidivism</td>\n",
       "      <td>3</td>\n",
       "      <td>Low</td>\n",
       "      <td>2014-07-03</td>\n",
       "    </tr>\n",
       "    <tr>\n",
       "      <th>2022</th>\n",
       "      <td>2023</td>\n",
       "      <td>troy smith</td>\n",
       "      <td>troy</td>\n",
       "      <td>smith</td>\n",
       "      <td>2013-03-22</td>\n",
       "      <td>Male</td>\n",
       "      <td>1993-09-08</td>\n",
       "      <td>22</td>\n",
       "      <td>Less than 25</td>\n",
       "      <td>African-American</td>\n",
       "      <td>...</td>\n",
       "      <td>NaT</td>\n",
       "      <td>NaN</td>\n",
       "      <td>Risk of Violence</td>\n",
       "      <td>6</td>\n",
       "      <td>Medium</td>\n",
       "      <td>2013-03-22</td>\n",
       "      <td>Risk of Recidivism</td>\n",
       "      <td>7</td>\n",
       "      <td>Medium</td>\n",
       "      <td>2013-03-22</td>\n",
       "    </tr>\n",
       "    <tr>\n",
       "      <th>2320</th>\n",
       "      <td>2321</td>\n",
       "      <td>terrance williams</td>\n",
       "      <td>terrance</td>\n",
       "      <td>williams</td>\n",
       "      <td>2013-03-02</td>\n",
       "      <td>Male</td>\n",
       "      <td>1982-11-19</td>\n",
       "      <td>33</td>\n",
       "      <td>25 - 45</td>\n",
       "      <td>African-American</td>\n",
       "      <td>...</td>\n",
       "      <td>2014-05-30</td>\n",
       "      <td>Battery</td>\n",
       "      <td>Risk of Violence</td>\n",
       "      <td>7</td>\n",
       "      <td>Medium</td>\n",
       "      <td>2013-03-02</td>\n",
       "      <td>Risk of Recidivism</td>\n",
       "      <td>6</td>\n",
       "      <td>Medium</td>\n",
       "      <td>2013-03-02</td>\n",
       "    </tr>\n",
       "    <tr>\n",
       "      <th>2390</th>\n",
       "      <td>2391</td>\n",
       "      <td>ricardo williams</td>\n",
       "      <td>ricardo</td>\n",
       "      <td>williams</td>\n",
       "      <td>2014-12-07</td>\n",
       "      <td>Male</td>\n",
       "      <td>1975-05-14</td>\n",
       "      <td>40</td>\n",
       "      <td>25 - 45</td>\n",
       "      <td>African-American</td>\n",
       "      <td>...</td>\n",
       "      <td>NaT</td>\n",
       "      <td>NaN</td>\n",
       "      <td>Risk of Violence</td>\n",
       "      <td>1</td>\n",
       "      <td>Low</td>\n",
       "      <td>2014-12-07</td>\n",
       "      <td>Risk of Recidivism</td>\n",
       "      <td>2</td>\n",
       "      <td>Low</td>\n",
       "      <td>2014-12-07</td>\n",
       "    </tr>\n",
       "    <tr>\n",
       "      <th>...</th>\n",
       "      <td>...</td>\n",
       "      <td>...</td>\n",
       "      <td>...</td>\n",
       "      <td>...</td>\n",
       "      <td>...</td>\n",
       "      <td>...</td>\n",
       "      <td>...</td>\n",
       "      <td>...</td>\n",
       "      <td>...</td>\n",
       "      <td>...</td>\n",
       "      <td>...</td>\n",
       "      <td>...</td>\n",
       "      <td>...</td>\n",
       "      <td>...</td>\n",
       "      <td>...</td>\n",
       "      <td>...</td>\n",
       "      <td>...</td>\n",
       "      <td>...</td>\n",
       "      <td>...</td>\n",
       "      <td>...</td>\n",
       "      <td>...</td>\n",
       "    </tr>\n",
       "    <tr>\n",
       "      <th>11678</th>\n",
       "      <td>11679</td>\n",
       "      <td>roderick goddard</td>\n",
       "      <td>roderick</td>\n",
       "      <td>goddard</td>\n",
       "      <td>2014-03-29</td>\n",
       "      <td>Male</td>\n",
       "      <td>1989-06-08</td>\n",
       "      <td>26</td>\n",
       "      <td>25 - 45</td>\n",
       "      <td>African-American</td>\n",
       "      <td>...</td>\n",
       "      <td>2014-12-05</td>\n",
       "      <td>Throw Deadly Missile Into Veh</td>\n",
       "      <td>Risk of Violence</td>\n",
       "      <td>2</td>\n",
       "      <td>Low</td>\n",
       "      <td>2014-03-29</td>\n",
       "      <td>Risk of Recidivism</td>\n",
       "      <td>3</td>\n",
       "      <td>Low</td>\n",
       "      <td>2014-03-29</td>\n",
       "    </tr>\n",
       "    <tr>\n",
       "      <th>11713</th>\n",
       "      <td>11714</td>\n",
       "      <td>john brown</td>\n",
       "      <td>john</td>\n",
       "      <td>brown</td>\n",
       "      <td>2013-09-23</td>\n",
       "      <td>Male</td>\n",
       "      <td>1950-12-01</td>\n",
       "      <td>65</td>\n",
       "      <td>Greater than 45</td>\n",
       "      <td>African-American</td>\n",
       "      <td>...</td>\n",
       "      <td>NaT</td>\n",
       "      <td>NaN</td>\n",
       "      <td>Risk of Violence</td>\n",
       "      <td>1</td>\n",
       "      <td>Low</td>\n",
       "      <td>2013-09-23</td>\n",
       "      <td>Risk of Recidivism</td>\n",
       "      <td>1</td>\n",
       "      <td>Low</td>\n",
       "      <td>2013-09-23</td>\n",
       "    </tr>\n",
       "    <tr>\n",
       "      <th>11735</th>\n",
       "      <td>11736</td>\n",
       "      <td>carlos cruz</td>\n",
       "      <td>carlos</td>\n",
       "      <td>cruz</td>\n",
       "      <td>2013-02-02</td>\n",
       "      <td>Male</td>\n",
       "      <td>1980-01-21</td>\n",
       "      <td>36</td>\n",
       "      <td>25 - 45</td>\n",
       "      <td>Hispanic</td>\n",
       "      <td>...</td>\n",
       "      <td>NaT</td>\n",
       "      <td>NaN</td>\n",
       "      <td>Risk of Violence</td>\n",
       "      <td>3</td>\n",
       "      <td>Low</td>\n",
       "      <td>2013-02-02</td>\n",
       "      <td>Risk of Recidivism</td>\n",
       "      <td>10</td>\n",
       "      <td>High</td>\n",
       "      <td>2013-02-02</td>\n",
       "    </tr>\n",
       "    <tr>\n",
       "      <th>11746</th>\n",
       "      <td>11747</td>\n",
       "      <td>martin davis</td>\n",
       "      <td>martin</td>\n",
       "      <td>davis</td>\n",
       "      <td>2013-04-30</td>\n",
       "      <td>Male</td>\n",
       "      <td>1991-10-23</td>\n",
       "      <td>24</td>\n",
       "      <td>Less than 25</td>\n",
       "      <td>African-American</td>\n",
       "      <td>...</td>\n",
       "      <td>NaT</td>\n",
       "      <td>NaN</td>\n",
       "      <td>Risk of Violence</td>\n",
       "      <td>5</td>\n",
       "      <td>Medium</td>\n",
       "      <td>2013-04-30</td>\n",
       "      <td>Risk of Recidivism</td>\n",
       "      <td>4</td>\n",
       "      <td>Low</td>\n",
       "      <td>2013-04-30</td>\n",
       "    </tr>\n",
       "    <tr>\n",
       "      <th>11750</th>\n",
       "      <td>11751</td>\n",
       "      <td>carlos vasquez</td>\n",
       "      <td>carlos</td>\n",
       "      <td>vasquez</td>\n",
       "      <td>2014-03-04</td>\n",
       "      <td>Male</td>\n",
       "      <td>1971-11-04</td>\n",
       "      <td>44</td>\n",
       "      <td>25 - 45</td>\n",
       "      <td>Hispanic</td>\n",
       "      <td>...</td>\n",
       "      <td>NaT</td>\n",
       "      <td>NaN</td>\n",
       "      <td>Risk of Violence</td>\n",
       "      <td>1</td>\n",
       "      <td>Low</td>\n",
       "      <td>2014-03-04</td>\n",
       "      <td>Risk of Recidivism</td>\n",
       "      <td>1</td>\n",
       "      <td>Low</td>\n",
       "      <td>2014-03-04</td>\n",
       "    </tr>\n",
       "  </tbody>\n",
       "</table>\n",
       "<p>173 rows × 45 columns</p>\n",
       "</div>"
      ],
      "text/plain": [
       "          id               name     first      last compas_screening_date  \\\n",
       "1037    1038      anthony smith   anthony     smith            2014-07-28   \n",
       "2021    2022       james rogers     james    rogers            2014-07-03   \n",
       "2022    2023         troy smith      troy     smith            2013-03-22   \n",
       "2320    2321  terrance williams  terrance  williams            2013-03-02   \n",
       "2390    2391   ricardo williams   ricardo  williams            2014-12-07   \n",
       "...      ...                ...       ...       ...                   ...   \n",
       "11678  11679   roderick goddard  roderick   goddard            2014-03-29   \n",
       "11713  11714         john brown      john     brown            2013-09-23   \n",
       "11735  11736        carlos cruz    carlos      cruz            2013-02-02   \n",
       "11746  11747       martin davis    martin     davis            2013-04-30   \n",
       "11750  11751     carlos vasquez    carlos   vasquez            2014-03-04   \n",
       "\n",
       "        sex        dob  age          age_cat              race  ...  \\\n",
       "1037   Male 1968-02-08   48  Greater than 45         Caucasian  ...   \n",
       "2021   Male 1956-01-29   60  Greater than 45          Hispanic  ...   \n",
       "2022   Male 1993-09-08   22     Less than 25  African-American  ...   \n",
       "2320   Male 1982-11-19   33          25 - 45  African-American  ...   \n",
       "2390   Male 1975-05-14   40          25 - 45  African-American  ...   \n",
       "...     ...        ...  ...              ...               ...  ...   \n",
       "11678  Male 1989-06-08   26          25 - 45  African-American  ...   \n",
       "11713  Male 1950-12-01   65  Greater than 45  African-American  ...   \n",
       "11735  Male 1980-01-21   36          25 - 45          Hispanic  ...   \n",
       "11746  Male 1991-10-23   24     Less than 25  African-American  ...   \n",
       "11750  Male 1971-11-04   44          25 - 45          Hispanic  ...   \n",
       "\n",
       "       vr_offense_date                 vr_charge_desc  v_type_of_assessment  \\\n",
       "1037               NaT                            NaN      Risk of Violence   \n",
       "2021               NaT                            NaN      Risk of Violence   \n",
       "2022               NaT                            NaN      Risk of Violence   \n",
       "2320        2014-05-30                        Battery      Risk of Violence   \n",
       "2390               NaT                            NaN      Risk of Violence   \n",
       "...                ...                            ...                   ...   \n",
       "11678       2014-12-05  Throw Deadly Missile Into Veh      Risk of Violence   \n",
       "11713              NaT                            NaN      Risk of Violence   \n",
       "11735              NaT                            NaN      Risk of Violence   \n",
       "11746              NaT                            NaN      Risk of Violence   \n",
       "11750              NaT                            NaN      Risk of Violence   \n",
       "\n",
       "       v_decile_score  v_score_text  v_screening_date  type_of_assessment  \\\n",
       "1037                1           Low        2014-07-28  Risk of Recidivism   \n",
       "2021                1           Low        2014-07-03  Risk of Recidivism   \n",
       "2022                6        Medium        2013-03-22  Risk of Recidivism   \n",
       "2320                7        Medium        2013-03-02  Risk of Recidivism   \n",
       "2390                1           Low        2014-12-07  Risk of Recidivism   \n",
       "...               ...           ...               ...                 ...   \n",
       "11678               2           Low        2014-03-29  Risk of Recidivism   \n",
       "11713               1           Low        2013-09-23  Risk of Recidivism   \n",
       "11735               3           Low        2013-02-02  Risk of Recidivism   \n",
       "11746               5        Medium        2013-04-30  Risk of Recidivism   \n",
       "11750               1           Low        2014-03-04  Risk of Recidivism   \n",
       "\n",
       "      decile_score.1 score_text screening_date  \n",
       "1037               1        Low     2014-07-28  \n",
       "2021               3        Low     2014-07-03  \n",
       "2022               7     Medium     2013-03-22  \n",
       "2320               6     Medium     2013-03-02  \n",
       "2390               2        Low     2014-12-07  \n",
       "...              ...        ...            ...  \n",
       "11678              3        Low     2014-03-29  \n",
       "11713              1        Low     2013-09-23  \n",
       "11735             10       High     2013-02-02  \n",
       "11746              4        Low     2013-04-30  \n",
       "11750              1        Low     2014-03-04  \n",
       "\n",
       "[173 rows x 45 columns]"
      ]
     },
     "execution_count": 7,
     "metadata": {},
     "output_type": "execute_result"
    }
   ],
   "source": [
    "compas[compas.duplicated([\"name\"])]"
   ]
  },
  {
   "cell_type": "markdown",
   "id": "settled-intensity",
   "metadata": {},
   "source": [
    "Para comprobar que no son las mismas personas vamos a usar la fecha de nacimiento."
   ]
  },
  {
   "cell_type": "code",
   "execution_count": 8,
   "id": "under-terry",
   "metadata": {},
   "outputs": [
    {
     "data": {
      "text/html": [
       "<div>\n",
       "<style scoped>\n",
       "    .dataframe tbody tr th:only-of-type {\n",
       "        vertical-align: middle;\n",
       "    }\n",
       "\n",
       "    .dataframe tbody tr th {\n",
       "        vertical-align: top;\n",
       "    }\n",
       "\n",
       "    .dataframe thead th {\n",
       "        text-align: right;\n",
       "    }\n",
       "</style>\n",
       "<table border=\"1\" class=\"dataframe\">\n",
       "  <thead>\n",
       "    <tr style=\"text-align: right;\">\n",
       "      <th></th>\n",
       "      <th>id</th>\n",
       "      <th>name</th>\n",
       "      <th>first</th>\n",
       "      <th>last</th>\n",
       "      <th>compas_screening_date</th>\n",
       "      <th>sex</th>\n",
       "      <th>dob</th>\n",
       "      <th>age</th>\n",
       "      <th>age_cat</th>\n",
       "      <th>race</th>\n",
       "      <th>...</th>\n",
       "      <th>vr_offense_date</th>\n",
       "      <th>vr_charge_desc</th>\n",
       "      <th>v_type_of_assessment</th>\n",
       "      <th>v_decile_score</th>\n",
       "      <th>v_score_text</th>\n",
       "      <th>v_screening_date</th>\n",
       "      <th>type_of_assessment</th>\n",
       "      <th>decile_score.1</th>\n",
       "      <th>score_text</th>\n",
       "      <th>screening_date</th>\n",
       "    </tr>\n",
       "  </thead>\n",
       "  <tbody>\n",
       "    <tr>\n",
       "      <th>3761</th>\n",
       "      <td>3762</td>\n",
       "      <td>gueslly deravine</td>\n",
       "      <td>gueslly</td>\n",
       "      <td>deravine</td>\n",
       "      <td>2013-02-21</td>\n",
       "      <td>Male</td>\n",
       "      <td>1989-11-30</td>\n",
       "      <td>26</td>\n",
       "      <td>25 - 45</td>\n",
       "      <td>African-American</td>\n",
       "      <td>...</td>\n",
       "      <td>NaT</td>\n",
       "      <td>NaN</td>\n",
       "      <td>Risk of Violence</td>\n",
       "      <td>6</td>\n",
       "      <td>Medium</td>\n",
       "      <td>2013-02-21</td>\n",
       "      <td>Risk of Recidivism</td>\n",
       "      <td>5</td>\n",
       "      <td>Medium</td>\n",
       "      <td>2013-02-21</td>\n",
       "    </tr>\n",
       "    <tr>\n",
       "      <th>9956</th>\n",
       "      <td>9957</td>\n",
       "      <td>scott botkin</td>\n",
       "      <td>scott</td>\n",
       "      <td>botkin</td>\n",
       "      <td>2013-06-18</td>\n",
       "      <td>Male</td>\n",
       "      <td>1969-10-05</td>\n",
       "      <td>46</td>\n",
       "      <td>Greater than 45</td>\n",
       "      <td>Caucasian</td>\n",
       "      <td>...</td>\n",
       "      <td>NaT</td>\n",
       "      <td>NaN</td>\n",
       "      <td>Risk of Violence</td>\n",
       "      <td>2</td>\n",
       "      <td>Low</td>\n",
       "      <td>2013-06-18</td>\n",
       "      <td>Risk of Recidivism</td>\n",
       "      <td>3</td>\n",
       "      <td>Low</td>\n",
       "      <td>2013-06-18</td>\n",
       "    </tr>\n",
       "    <tr>\n",
       "      <th>11585</th>\n",
       "      <td>11586</td>\n",
       "      <td>alejandro cabrera</td>\n",
       "      <td>alejandro</td>\n",
       "      <td>cabrera</td>\n",
       "      <td>2013-10-07</td>\n",
       "      <td>Male</td>\n",
       "      <td>1990-03-30</td>\n",
       "      <td>26</td>\n",
       "      <td>25 - 45</td>\n",
       "      <td>Hispanic</td>\n",
       "      <td>...</td>\n",
       "      <td>NaT</td>\n",
       "      <td>NaN</td>\n",
       "      <td>Risk of Violence</td>\n",
       "      <td>3</td>\n",
       "      <td>Low</td>\n",
       "      <td>2013-10-07</td>\n",
       "      <td>Risk of Recidivism</td>\n",
       "      <td>4</td>\n",
       "      <td>Low</td>\n",
       "      <td>2013-10-07</td>\n",
       "    </tr>\n",
       "  </tbody>\n",
       "</table>\n",
       "<p>3 rows × 45 columns</p>\n",
       "</div>"
      ],
      "text/plain": [
       "          id               name      first      last compas_screening_date  \\\n",
       "3761    3762   gueslly deravine    gueslly  deravine            2013-02-21   \n",
       "9956    9957       scott botkin      scott    botkin            2013-06-18   \n",
       "11585  11586  alejandro cabrera  alejandro   cabrera            2013-10-07   \n",
       "\n",
       "        sex        dob  age          age_cat              race  ...  \\\n",
       "3761   Male 1989-11-30   26          25 - 45  African-American  ...   \n",
       "9956   Male 1969-10-05   46  Greater than 45         Caucasian  ...   \n",
       "11585  Male 1990-03-30   26          25 - 45          Hispanic  ...   \n",
       "\n",
       "       vr_offense_date  vr_charge_desc  v_type_of_assessment  v_decile_score  \\\n",
       "3761               NaT             NaN      Risk of Violence               6   \n",
       "9956               NaT             NaN      Risk of Violence               2   \n",
       "11585              NaT             NaN      Risk of Violence               3   \n",
       "\n",
       "       v_score_text  v_screening_date  type_of_assessment decile_score.1  \\\n",
       "3761         Medium        2013-02-21  Risk of Recidivism              5   \n",
       "9956            Low        2013-06-18  Risk of Recidivism              3   \n",
       "11585           Low        2013-10-07  Risk of Recidivism              4   \n",
       "\n",
       "      score_text screening_date  \n",
       "3761      Medium     2013-02-21  \n",
       "9956         Low     2013-06-18  \n",
       "11585        Low     2013-10-07  \n",
       "\n",
       "[3 rows x 45 columns]"
      ]
     },
     "execution_count": 8,
     "metadata": {},
     "output_type": "execute_result"
    }
   ],
   "source": [
    "compas[compas.duplicated([\"name\", \"dob\"])]"
   ]
  },
  {
   "cell_type": "markdown",
   "id": "remarkable-corporation",
   "metadata": {},
   "source": [
    "Hay tres entradas repetidas para lo que podemos suponer que son la misma persona. Vamos a ver sus fechas del assesment y nivel de reincidencia."
   ]
  },
  {
   "cell_type": "code",
   "execution_count": 9,
   "id": "continental-queensland",
   "metadata": {},
   "outputs": [
    {
     "data": {
      "text/html": [
       "<div>\n",
       "<style scoped>\n",
       "    .dataframe tbody tr th:only-of-type {\n",
       "        vertical-align: middle;\n",
       "    }\n",
       "\n",
       "    .dataframe tbody tr th {\n",
       "        vertical-align: top;\n",
       "    }\n",
       "\n",
       "    .dataframe thead th {\n",
       "        text-align: right;\n",
       "    }\n",
       "</style>\n",
       "<table border=\"1\" class=\"dataframe\">\n",
       "  <thead>\n",
       "    <tr style=\"text-align: right;\">\n",
       "      <th></th>\n",
       "      <th>name</th>\n",
       "      <th>c_jail_in</th>\n",
       "      <th>c_jail_out</th>\n",
       "      <th>compas_screening_date</th>\n",
       "      <th>score_text</th>\n",
       "    </tr>\n",
       "  </thead>\n",
       "  <tbody>\n",
       "    <tr>\n",
       "      <th>604</th>\n",
       "      <td>gueslly deravine</td>\n",
       "      <td>2013-02-21 01:31:52</td>\n",
       "      <td>2013-02-21 07:44:48</td>\n",
       "      <td>2013-03-27</td>\n",
       "      <td>Medium</td>\n",
       "    </tr>\n",
       "    <tr>\n",
       "      <th>3701</th>\n",
       "      <td>scott botkin</td>\n",
       "      <td>2013-02-08 05:09:11</td>\n",
       "      <td>2013-02-08 02:00:40</td>\n",
       "      <td>2013-02-08</td>\n",
       "      <td>High</td>\n",
       "    </tr>\n",
       "    <tr>\n",
       "      <th>3761</th>\n",
       "      <td>gueslly deravine</td>\n",
       "      <td>NaT</td>\n",
       "      <td>NaT</td>\n",
       "      <td>2013-02-21</td>\n",
       "      <td>Medium</td>\n",
       "    </tr>\n",
       "    <tr>\n",
       "      <th>6536</th>\n",
       "      <td>alejandro cabrera</td>\n",
       "      <td>2013-09-23 12:36:24</td>\n",
       "      <td>2013-09-26 08:28:31</td>\n",
       "      <td>2013-09-23</td>\n",
       "      <td>Low</td>\n",
       "    </tr>\n",
       "    <tr>\n",
       "      <th>9956</th>\n",
       "      <td>scott botkin</td>\n",
       "      <td>NaT</td>\n",
       "      <td>NaT</td>\n",
       "      <td>2013-06-18</td>\n",
       "      <td>Low</td>\n",
       "    </tr>\n",
       "    <tr>\n",
       "      <th>11585</th>\n",
       "      <td>alejandro cabrera</td>\n",
       "      <td>NaT</td>\n",
       "      <td>NaT</td>\n",
       "      <td>2013-10-07</td>\n",
       "      <td>Low</td>\n",
       "    </tr>\n",
       "  </tbody>\n",
       "</table>\n",
       "</div>"
      ],
      "text/plain": [
       "                    name           c_jail_in          c_jail_out  \\\n",
       "604     gueslly deravine 2013-02-21 01:31:52 2013-02-21 07:44:48   \n",
       "3701        scott botkin 2013-02-08 05:09:11 2013-02-08 02:00:40   \n",
       "3761    gueslly deravine                 NaT                 NaT   \n",
       "6536   alejandro cabrera 2013-09-23 12:36:24 2013-09-26 08:28:31   \n",
       "9956        scott botkin                 NaT                 NaT   \n",
       "11585  alejandro cabrera                 NaT                 NaT   \n",
       "\n",
       "      compas_screening_date score_text  \n",
       "604              2013-03-27     Medium  \n",
       "3701             2013-02-08       High  \n",
       "3761             2013-02-21     Medium  \n",
       "6536             2013-09-23        Low  \n",
       "9956             2013-06-18        Low  \n",
       "11585            2013-10-07        Low  "
      ]
     },
     "execution_count": 9,
     "metadata": {},
     "output_type": "execute_result"
    }
   ],
   "source": [
    "compas[compas.name.isin([\"gueslly deravine\", \n",
    "                         \"scott botkin\", \n",
    "                         \"alejandro cabrera\"])][[\"name\", \"c_jail_in\", \"c_jail_out\", \n",
    "                                                 \"compas_screening_date\", \"score_text\"]]"
   ]
  },
  {
   "cell_type": "markdown",
   "id": "magnetic-blast",
   "metadata": {},
   "source": [
    "Se ve que son distintas para la misma persona tanto la fecha de screening como el nivel de reincidencia, y que las fechas de entrada y salida solo aparecen para uno de los casos. Podemos añadir al grupo indentificativo de una persona su fecha de screening, así, todos los registros son únicos. ID = **id**, **name**, **first**, **last**, **dob**, **compas_screening_date**."
   ]
  },
  {
   "cell_type": "markdown",
   "id": "peaceful-tracker",
   "metadata": {},
   "source": [
    "### Datos de tiempo\n",
    "\n",
    "Aquí trataremos las fechas que aparecen en el dataset. Ya hemos visto *c_jail_in*, *c_jail_out* y *compas_screening_date*. Estas son las fechas de entrada y salida en prisión y la fecha del assesment. Pero hay otras fechas con el nombre de screening, vamos a compararla con *compas_screening_date*."
   ]
  },
  {
   "cell_type": "code",
   "execution_count": 10,
   "id": "legendary-pickup",
   "metadata": {},
   "outputs": [
    {
     "data": {
      "text/html": [
       "<div>\n",
       "<style scoped>\n",
       "    .dataframe tbody tr th:only-of-type {\n",
       "        vertical-align: middle;\n",
       "    }\n",
       "\n",
       "    .dataframe tbody tr th {\n",
       "        vertical-align: top;\n",
       "    }\n",
       "\n",
       "    .dataframe thead th {\n",
       "        text-align: right;\n",
       "    }\n",
       "</style>\n",
       "<table border=\"1\" class=\"dataframe\">\n",
       "  <thead>\n",
       "    <tr style=\"text-align: right;\">\n",
       "      <th></th>\n",
       "      <th>compas_screening_date</th>\n",
       "      <th>dob</th>\n",
       "      <th>c_jail_in</th>\n",
       "      <th>c_jail_out</th>\n",
       "      <th>r_jail_in</th>\n",
       "      <th>r_jail_out</th>\n",
       "      <th>c_offense_date</th>\n",
       "      <th>c_arrest_date</th>\n",
       "      <th>r_offense_date</th>\n",
       "      <th>vr_offense_date</th>\n",
       "      <th>v_screening_date</th>\n",
       "      <th>screening_date</th>\n",
       "    </tr>\n",
       "  </thead>\n",
       "  <tbody>\n",
       "    <tr>\n",
       "      <th>count</th>\n",
       "      <td>11757</td>\n",
       "      <td>11757</td>\n",
       "      <td>10577</td>\n",
       "      <td>10577</td>\n",
       "      <td>2460</td>\n",
       "      <td>2460</td>\n",
       "      <td>9157</td>\n",
       "      <td>1858</td>\n",
       "      <td>3703</td>\n",
       "      <td>882</td>\n",
       "      <td>11757</td>\n",
       "      <td>11757</td>\n",
       "    </tr>\n",
       "    <tr>\n",
       "      <th>unique</th>\n",
       "      <td>704</td>\n",
       "      <td>7800</td>\n",
       "      <td>10577</td>\n",
       "      <td>10517</td>\n",
       "      <td>984</td>\n",
       "      <td>953</td>\n",
       "      <td>1036</td>\n",
       "      <td>802</td>\n",
       "      <td>1090</td>\n",
       "      <td>599</td>\n",
       "      <td>704</td>\n",
       "      <td>704</td>\n",
       "    </tr>\n",
       "    <tr>\n",
       "      <th>top</th>\n",
       "      <td>2013-03-20 00:00:00</td>\n",
       "      <td>1990-05-02 00:00:00</td>\n",
       "      <td>2013-05-15 09:10:58</td>\n",
       "      <td>2013-09-12 10:31:00</td>\n",
       "      <td>2014-05-27 00:00:00</td>\n",
       "      <td>2014-02-18 00:00:00</td>\n",
       "      <td>2013-03-20 00:00:00</td>\n",
       "      <td>2013-02-06 00:00:00</td>\n",
       "      <td>2014-12-08 00:00:00</td>\n",
       "      <td>2015-08-15 00:00:00</td>\n",
       "      <td>2013-03-20 00:00:00</td>\n",
       "      <td>2013-03-20 00:00:00</td>\n",
       "    </tr>\n",
       "    <tr>\n",
       "      <th>freq</th>\n",
       "      <td>39</td>\n",
       "      <td>6</td>\n",
       "      <td>1</td>\n",
       "      <td>4</td>\n",
       "      <td>9</td>\n",
       "      <td>10</td>\n",
       "      <td>29</td>\n",
       "      <td>9</td>\n",
       "      <td>12</td>\n",
       "      <td>6</td>\n",
       "      <td>39</td>\n",
       "      <td>39</td>\n",
       "    </tr>\n",
       "    <tr>\n",
       "      <th>first</th>\n",
       "      <td>2013-01-01 00:00:00</td>\n",
       "      <td>1919-10-14 00:00:00</td>\n",
       "      <td>2013-01-01 01:31:55</td>\n",
       "      <td>2013-01-02 01:12:01</td>\n",
       "      <td>2013-01-04 00:00:00</td>\n",
       "      <td>2013-01-05 00:00:00</td>\n",
       "      <td>1987-11-07 00:00:00</td>\n",
       "      <td>1997-06-18 00:00:00</td>\n",
       "      <td>2013-01-03 00:00:00</td>\n",
       "      <td>2013-01-28 00:00:00</td>\n",
       "      <td>2013-01-01 00:00:00</td>\n",
       "      <td>2013-01-01 00:00:00</td>\n",
       "    </tr>\n",
       "    <tr>\n",
       "      <th>last</th>\n",
       "      <td>2014-12-31 00:00:00</td>\n",
       "      <td>1998-03-29 00:00:00</td>\n",
       "      <td>2016-03-11 10:26:16</td>\n",
       "      <td>2020-01-01 00:00:00</td>\n",
       "      <td>2016-03-29 00:00:00</td>\n",
       "      <td>2020-01-01 00:00:00</td>\n",
       "      <td>2014-12-30 00:00:00</td>\n",
       "      <td>2014-12-31 00:00:00</td>\n",
       "      <td>2016-03-29 00:00:00</td>\n",
       "      <td>2016-03-13 00:00:00</td>\n",
       "      <td>2014-12-31 00:00:00</td>\n",
       "      <td>2014-12-31 00:00:00</td>\n",
       "    </tr>\n",
       "  </tbody>\n",
       "</table>\n",
       "</div>"
      ],
      "text/plain": [
       "       compas_screening_date                  dob            c_jail_in  \\\n",
       "count                  11757                11757                10577   \n",
       "unique                   704                 7800                10577   \n",
       "top      2013-03-20 00:00:00  1990-05-02 00:00:00  2013-05-15 09:10:58   \n",
       "freq                      39                    6                    1   \n",
       "first    2013-01-01 00:00:00  1919-10-14 00:00:00  2013-01-01 01:31:55   \n",
       "last     2014-12-31 00:00:00  1998-03-29 00:00:00  2016-03-11 10:26:16   \n",
       "\n",
       "                 c_jail_out            r_jail_in           r_jail_out  \\\n",
       "count                 10577                 2460                 2460   \n",
       "unique                10517                  984                  953   \n",
       "top     2013-09-12 10:31:00  2014-05-27 00:00:00  2014-02-18 00:00:00   \n",
       "freq                      4                    9                   10   \n",
       "first   2013-01-02 01:12:01  2013-01-04 00:00:00  2013-01-05 00:00:00   \n",
       "last    2020-01-01 00:00:00  2016-03-29 00:00:00  2020-01-01 00:00:00   \n",
       "\n",
       "             c_offense_date        c_arrest_date       r_offense_date  \\\n",
       "count                  9157                 1858                 3703   \n",
       "unique                 1036                  802                 1090   \n",
       "top     2013-03-20 00:00:00  2013-02-06 00:00:00  2014-12-08 00:00:00   \n",
       "freq                     29                    9                   12   \n",
       "first   1987-11-07 00:00:00  1997-06-18 00:00:00  2013-01-03 00:00:00   \n",
       "last    2014-12-30 00:00:00  2014-12-31 00:00:00  2016-03-29 00:00:00   \n",
       "\n",
       "            vr_offense_date     v_screening_date       screening_date  \n",
       "count                   882                11757                11757  \n",
       "unique                  599                  704                  704  \n",
       "top     2015-08-15 00:00:00  2013-03-20 00:00:00  2013-03-20 00:00:00  \n",
       "freq                      6                   39                   39  \n",
       "first   2013-01-28 00:00:00  2013-01-01 00:00:00  2013-01-01 00:00:00  \n",
       "last    2016-03-13 00:00:00  2014-12-31 00:00:00  2014-12-31 00:00:00  "
      ]
     },
     "execution_count": 10,
     "metadata": {},
     "output_type": "execute_result"
    }
   ],
   "source": [
    "compas[[\"compas_screening_date\", \"dob\", \"c_jail_in\", \"c_jail_out\", \"r_jail_in\", \"r_jail_out\", \"c_offense_date\",\n",
    "        \"c_arrest_date\", \"r_offense_date\", \"vr_offense_date\", \"v_screening_date\", \"screening_date\"]].describe()"
   ]
  },
  {
   "cell_type": "markdown",
   "id": "controlled-fundamentals",
   "metadata": {},
   "source": [
    "Por los valores parece que *compas_screening_date*, *v_screening_date* y *screening_date* son iguales, por lo que podemos eliminar las dos últimas del dataset."
   ]
  },
  {
   "cell_type": "code",
   "execution_count": 11,
   "id": "convinced-unknown",
   "metadata": {},
   "outputs": [],
   "source": [
    "compas = compas.drop(columns=[\"v_screening_date\", \"screening_date\"])"
   ]
  },
  {
   "cell_type": "markdown",
   "id": "conscious-modem",
   "metadata": {},
   "source": [
    "El resto de fechas parecen normales. Sin embargo, para quitarnos una más, vamos a crear *days_jailed* = *c_jail_out* - *c_jail_in*."
   ]
  },
  {
   "cell_type": "code",
   "execution_count": 12,
   "id": "worldwide-elizabeth",
   "metadata": {},
   "outputs": [],
   "source": [
    "day_diff = compas.c_jail_out - compas.c_jail_in\n",
    "day_diff = day_diff.values/np.timedelta64(86400, \"s\")\n",
    "compas[\"days_jailed\"] = day_diff\n",
    "\n",
    "compas = compas.drop(columns=[\"c_jail_out\", \"c_jail_in\"])"
   ]
  },
  {
   "cell_type": "markdown",
   "id": "english-quarterly",
   "metadata": {},
   "source": [
    "Y lo mismo con los reincidentes."
   ]
  },
  {
   "cell_type": "code",
   "execution_count": 13,
   "id": "annoying-affect",
   "metadata": {},
   "outputs": [],
   "source": [
    "day_diff_r = compas.r_jail_out - compas.r_jail_in\n",
    "day_diff_r = day_diff_r.values/np.timedelta64(86400, \"s\")\n",
    "compas[\"days_jailed_r\"] = day_diff_r\n",
    "\n",
    "compas = compas.drop(columns=[\"r_jail_out\", \"r_jail_in\"])"
   ]
  },
  {
   "cell_type": "markdown",
   "id": "urban-thailand",
   "metadata": {},
   "source": [
    "También podemos eliminar algunas filas. Según ProPublica, si la fecha de imputación no está dentro de 30 días de la fecha del arresto, no se trata de la ofensa correcta."
   ]
  },
  {
   "cell_type": "code",
   "execution_count": 14,
   "id": "floral-decrease",
   "metadata": {},
   "outputs": [],
   "source": [
    "compas = compas[(compas.days_b_screening_arrest <= 30)&(compas.days_b_screening_arrest >= -30)]"
   ]
  },
  {
   "cell_type": "markdown",
   "id": "flush-animation",
   "metadata": {},
   "source": [
    "Podemos seguir con las variables de días."
   ]
  },
  {
   "cell_type": "code",
   "execution_count": 15,
   "id": "opposed-template",
   "metadata": {},
   "outputs": [
    {
     "data": {
      "text/html": [
       "<div>\n",
       "<style scoped>\n",
       "    .dataframe tbody tr th:only-of-type {\n",
       "        vertical-align: middle;\n",
       "    }\n",
       "\n",
       "    .dataframe tbody tr th {\n",
       "        vertical-align: top;\n",
       "    }\n",
       "\n",
       "    .dataframe thead th {\n",
       "        text-align: right;\n",
       "    }\n",
       "</style>\n",
       "<table border=\"1\" class=\"dataframe\">\n",
       "  <thead>\n",
       "    <tr style=\"text-align: right;\">\n",
       "      <th></th>\n",
       "      <th>days_b_screening_arrest</th>\n",
       "      <th>c_days_from_compas</th>\n",
       "      <th>r_days_from_arrest</th>\n",
       "    </tr>\n",
       "  </thead>\n",
       "  <tbody>\n",
       "    <tr>\n",
       "      <th>count</th>\n",
       "      <td>9396.000000</td>\n",
       "      <td>9396.000000</td>\n",
       "      <td>2126.000000</td>\n",
       "    </tr>\n",
       "    <tr>\n",
       "      <th>mean</th>\n",
       "      <td>-1.802682</td>\n",
       "      <td>24.904534</td>\n",
       "      <td>20.415334</td>\n",
       "    </tr>\n",
       "    <tr>\n",
       "      <th>std</th>\n",
       "      <td>5.029939</td>\n",
       "      <td>263.281189</td>\n",
       "      <td>76.099057</td>\n",
       "    </tr>\n",
       "    <tr>\n",
       "      <th>min</th>\n",
       "      <td>-30.000000</td>\n",
       "      <td>0.000000</td>\n",
       "      <td>-1.000000</td>\n",
       "    </tr>\n",
       "    <tr>\n",
       "      <th>25%</th>\n",
       "      <td>-1.000000</td>\n",
       "      <td>1.000000</td>\n",
       "      <td>0.000000</td>\n",
       "    </tr>\n",
       "    <tr>\n",
       "      <th>50%</th>\n",
       "      <td>-1.000000</td>\n",
       "      <td>1.000000</td>\n",
       "      <td>0.000000</td>\n",
       "    </tr>\n",
       "    <tr>\n",
       "      <th>75%</th>\n",
       "      <td>-1.000000</td>\n",
       "      <td>1.000000</td>\n",
       "      <td>1.000000</td>\n",
       "    </tr>\n",
       "    <tr>\n",
       "      <th>max</th>\n",
       "      <td>30.000000</td>\n",
       "      <td>9485.000000</td>\n",
       "      <td>993.000000</td>\n",
       "    </tr>\n",
       "  </tbody>\n",
       "</table>\n",
       "</div>"
      ],
      "text/plain": [
       "       days_b_screening_arrest  c_days_from_compas  r_days_from_arrest\n",
       "count              9396.000000         9396.000000         2126.000000\n",
       "mean                 -1.802682           24.904534           20.415334\n",
       "std                   5.029939          263.281189           76.099057\n",
       "min                 -30.000000            0.000000           -1.000000\n",
       "25%                  -1.000000            1.000000            0.000000\n",
       "50%                  -1.000000            1.000000            0.000000\n",
       "75%                  -1.000000            1.000000            1.000000\n",
       "max                  30.000000         9485.000000          993.000000"
      ]
     },
     "execution_count": 15,
     "metadata": {},
     "output_type": "execute_result"
    }
   ],
   "source": [
    "compas[[\"days_b_screening_arrest\", \"c_days_from_compas\", \"r_days_from_arrest\"]].describe()"
   ]
  },
  {
   "cell_type": "markdown",
   "id": "academic-dayton",
   "metadata": {},
   "source": [
    "Vemos que son variables distintas. La mayoría de días de *c_days_from_compas* son 1 (y son todos positivos). *r_days_from_arrest* tiene valores negativos que se suponen erróneos o nulos. Debido a falta de información no se puede dar una descripción más exacta del sigificado"
   ]
  },
  {
   "cell_type": "markdown",
   "id": "affecting-effectiveness",
   "metadata": {},
   "source": [
    "### Variables demográficas\n",
    "\n",
    "En esta sección se entra en la controversia de la publicación inicial de este modelo. En los datos demográficos podemos encontrar edad, sexo y raza, siendo esta última la variable que más debate ha generado. Vamos a describirlas:"
   ]
  },
  {
   "cell_type": "code",
   "execution_count": 16,
   "id": "dried-outreach",
   "metadata": {},
   "outputs": [
    {
     "data": {
      "text/html": [
       "<div>\n",
       "<style scoped>\n",
       "    .dataframe tbody tr th:only-of-type {\n",
       "        vertical-align: middle;\n",
       "    }\n",
       "\n",
       "    .dataframe tbody tr th {\n",
       "        vertical-align: top;\n",
       "    }\n",
       "\n",
       "    .dataframe thead th {\n",
       "        text-align: right;\n",
       "    }\n",
       "</style>\n",
       "<table border=\"1\" class=\"dataframe\">\n",
       "  <thead>\n",
       "    <tr style=\"text-align: right;\">\n",
       "      <th></th>\n",
       "      <th>sex</th>\n",
       "      <th>age_cat</th>\n",
       "      <th>race</th>\n",
       "    </tr>\n",
       "  </thead>\n",
       "  <tbody>\n",
       "    <tr>\n",
       "      <th>count</th>\n",
       "      <td>9396</td>\n",
       "      <td>9396</td>\n",
       "      <td>9396</td>\n",
       "    </tr>\n",
       "    <tr>\n",
       "      <th>unique</th>\n",
       "      <td>2</td>\n",
       "      <td>3</td>\n",
       "      <td>6</td>\n",
       "    </tr>\n",
       "    <tr>\n",
       "      <th>top</th>\n",
       "      <td>Male</td>\n",
       "      <td>25 - 45</td>\n",
       "      <td>African-American</td>\n",
       "    </tr>\n",
       "    <tr>\n",
       "      <th>freq</th>\n",
       "      <td>7463</td>\n",
       "      <td>5367</td>\n",
       "      <td>4675</td>\n",
       "    </tr>\n",
       "  </tbody>\n",
       "</table>\n",
       "</div>"
      ],
      "text/plain": [
       "         sex  age_cat              race\n",
       "count   9396     9396              9396\n",
       "unique     2        3                 6\n",
       "top     Male  25 - 45  African-American\n",
       "freq    7463     5367              4675"
      ]
     },
     "execution_count": 16,
     "metadata": {},
     "output_type": "execute_result"
    }
   ],
   "source": [
    "compas[[\"sex\",\"age_cat\",\"race\"]].describe(include=\"object\")"
   ]
  },
  {
   "cell_type": "markdown",
   "id": "scientific-lindsay",
   "metadata": {},
   "source": [
    "También existe la variable numérica edad pero vamos a obviarla ya que da la misma información que la tramificada. Vemos que la mayoría de convictos evaluados por COMPAS son hombres de raza negra entre 25 y 45 años. Después de describir las variables de contexto criminal y las del scoring veremos cómo estas demografías influyen en el resultado final. Podemos ver los niveles de las tres y su frecuencia."
   ]
  },
  {
   "cell_type": "code",
   "execution_count": 17,
   "id": "vertical-europe",
   "metadata": {},
   "outputs": [
    {
     "data": {
      "text/plain": [
       "sex     age_cat          race            \n",
       "Female  25 - 45          African-American     546\n",
       "                         Asian                  3\n",
       "                         Caucasian            453\n",
       "                         Hispanic              80\n",
       "                         Native American        4\n",
       "                         Other                 62\n",
       "        Greater than 45  African-American     104\n",
       "                         Asian                  1\n",
       "                         Caucasian            223\n",
       "                         Hispanic              30\n",
       "                         Native American        2\n",
       "                         Other                 20\n",
       "        Less than 25     African-American     237\n",
       "                         Asian                  1\n",
       "                         Caucasian            114\n",
       "                         Hispanic              29\n",
       "                         Native American        1\n",
       "                         Other                 23\n",
       "Male    25 - 45          African-American    2217\n",
       "                         Asian                 21\n",
       "                         Caucasian           1317\n",
       "                         Hispanic             390\n",
       "                         Native American       12\n",
       "                         Other                262\n",
       "        Greater than 45  African-American     607\n",
       "                         Asian                 15\n",
       "                         Caucasian            743\n",
       "                         Hispanic             153\n",
       "                         Native American        5\n",
       "                         Other                116\n",
       "        Less than 25     African-American     964\n",
       "                         Asian                  7\n",
       "                         Caucasian            406\n",
       "                         Hispanic             137\n",
       "                         Native American        3\n",
       "                         Other                 88\n",
       "Name: id, dtype: int64"
      ]
     },
     "execution_count": 17,
     "metadata": {},
     "output_type": "execute_result"
    }
   ],
   "source": [
    "compas.groupby([\"sex\",\"age_cat\",\"race\"])[\"id\"].count()"
   ]
  },
  {
   "cell_type": "markdown",
   "id": "becoming-trinidad",
   "metadata": {},
   "source": [
    "Confirmamos que los más frecuentes son hombres de raza negra de mediana edad, seguidos por hombres blancos de la misma edad. En cuanto a mujeres se da el mismo comportamiento. Debido al menor número de convictos de otras razas vamos a agruparlas en \"Af_Am\", \"Cauc\", \"Other\"."
   ]
  },
  {
   "cell_type": "code",
   "execution_count": 18,
   "id": "alike-supervision",
   "metadata": {},
   "outputs": [],
   "source": [
    "mapping = {\n",
    "        'African-American':'Af_Am',\n",
    "        'Caucasian':'Cauc',\n",
    "        'Asian':'Other',\n",
    "        'Hispanic':'Other',\n",
    "        'Native American':'Other',\n",
    "        'Other':'Other'\n",
    "    }\n",
    "\n",
    "compas[\"race\"] = compas['race'].replace(mapping)"
   ]
  },
  {
   "cell_type": "code",
   "execution_count": 19,
   "id": "progressive-celebrity",
   "metadata": {},
   "outputs": [
    {
     "data": {
      "image/png": "[encoded data removed]",
      "text/plain": [
       "<Figure size 640x480 with 3 Axes>"
      ]
     },
     "metadata": {},
     "output_type": "display_data"
    },
    {
     "data": {
      "text/plain": [
       "<ggplot: (-9223371918052731228)>"
      ]
     },
     "execution_count": 19,
     "metadata": {},
     "output_type": "execute_result"
    }
   ],
   "source": [
    "g_demo = compas[[\"sex\",\"age_cat\",\"race\"]]\n",
    "ggplot(g_demo, aes(x=\"race\",fill=\"sex\")) + geom_bar(position=\"dodge\") +\\\n",
    "theme_bw() + facet_wrap(\"age_cat\") +\\\n",
    "labs(title=\"Diferencia de ratio de raza para cada sexo y grupo de edad\") +\\\n",
    "xlab(\"Raza\") + ylab(\"Número de casos\")"
   ]
  },
  {
   "cell_type": "markdown",
   "id": "offensive-tournament",
   "metadata": {},
   "source": [
    "Se ve que el ratio de razas (Af_Am/Cauc) es menor para las mujeres en el tramo de edad clave (25-45). "
   ]
  },
  {
   "cell_type": "markdown",
   "id": "interstate-marathon",
   "metadata": {},
   "source": [
    "### Variables de contexto criminal\n",
    "\n",
    "Aquí nos podemos encontrar la reincidencia, el número de imputaciones o arrestos anteriores, los cargos, el grado de imputación, etc. Empezamos por datos de imputaciones anteriores."
   ]
  },
  {
   "cell_type": "code",
   "execution_count": 20,
   "id": "introductory-territory",
   "metadata": {
    "scrolled": true
   },
   "outputs": [
    {
     "data": {
      "text/html": [
       "<div>\n",
       "<style scoped>\n",
       "    .dataframe tbody tr th:only-of-type {\n",
       "        vertical-align: middle;\n",
       "    }\n",
       "\n",
       "    .dataframe tbody tr th {\n",
       "        vertical-align: top;\n",
       "    }\n",
       "\n",
       "    .dataframe thead th {\n",
       "        text-align: right;\n",
       "    }\n",
       "</style>\n",
       "<table border=\"1\" class=\"dataframe\">\n",
       "  <thead>\n",
       "    <tr style=\"text-align: right;\">\n",
       "      <th></th>\n",
       "      <th>juv_fel_count</th>\n",
       "      <th>juv_misd_count</th>\n",
       "      <th>juv_other_count</th>\n",
       "      <th>priors_count</th>\n",
       "    </tr>\n",
       "  </thead>\n",
       "  <tbody>\n",
       "    <tr>\n",
       "      <th>count</th>\n",
       "      <td>9396.000000</td>\n",
       "      <td>9396.00000</td>\n",
       "      <td>9396.000000</td>\n",
       "      <td>9396.000000</td>\n",
       "    </tr>\n",
       "    <tr>\n",
       "      <th>mean</th>\n",
       "      <td>0.058323</td>\n",
       "      <td>0.07865</td>\n",
       "      <td>0.099085</td>\n",
       "      <td>3.022137</td>\n",
       "    </tr>\n",
       "    <tr>\n",
       "      <th>std</th>\n",
       "      <td>0.451600</td>\n",
       "      <td>0.46379</td>\n",
       "      <td>0.468116</td>\n",
       "      <td>4.584740</td>\n",
       "    </tr>\n",
       "    <tr>\n",
       "      <th>min</th>\n",
       "      <td>0.000000</td>\n",
       "      <td>0.00000</td>\n",
       "      <td>0.000000</td>\n",
       "      <td>0.000000</td>\n",
       "    </tr>\n",
       "    <tr>\n",
       "      <th>25%</th>\n",
       "      <td>0.000000</td>\n",
       "      <td>0.00000</td>\n",
       "      <td>0.000000</td>\n",
       "      <td>0.000000</td>\n",
       "    </tr>\n",
       "    <tr>\n",
       "      <th>50%</th>\n",
       "      <td>0.000000</td>\n",
       "      <td>0.00000</td>\n",
       "      <td>0.000000</td>\n",
       "      <td>1.000000</td>\n",
       "    </tr>\n",
       "    <tr>\n",
       "      <th>75%</th>\n",
       "      <td>0.000000</td>\n",
       "      <td>0.00000</td>\n",
       "      <td>0.000000</td>\n",
       "      <td>4.000000</td>\n",
       "    </tr>\n",
       "    <tr>\n",
       "      <th>max</th>\n",
       "      <td>20.000000</td>\n",
       "      <td>13.00000</td>\n",
       "      <td>11.000000</td>\n",
       "      <td>38.000000</td>\n",
       "    </tr>\n",
       "  </tbody>\n",
       "</table>\n",
       "</div>"
      ],
      "text/plain": [
       "       juv_fel_count  juv_misd_count  juv_other_count  priors_count\n",
       "count    9396.000000      9396.00000      9396.000000   9396.000000\n",
       "mean        0.058323         0.07865         0.099085      3.022137\n",
       "std         0.451600         0.46379         0.468116      4.584740\n",
       "min         0.000000         0.00000         0.000000      0.000000\n",
       "25%         0.000000         0.00000         0.000000      0.000000\n",
       "50%         0.000000         0.00000         0.000000      1.000000\n",
       "75%         0.000000         0.00000         0.000000      4.000000\n",
       "max        20.000000        13.00000        11.000000     38.000000"
      ]
     },
     "execution_count": 20,
     "metadata": {},
     "output_type": "execute_result"
    }
   ],
   "source": [
    "prior = [\"juv_fel_count\",\"juv_misd_count\",\"juv_other_count\",\"priors_count\"]\n",
    "compas[prior].describe()"
   ]
  },
  {
   "cell_type": "markdown",
   "id": "coupled-emerald",
   "metadata": {},
   "source": [
    "Vemos que la mayoría de convictos no cometieron delitos juveniles, con medias de menos de 0.1. Sin embargo, el número de delitos anteriores (no juveniles) sí es alto, entorno a 3 de media. Después se verá como afecta al scoring.\n",
    "\n",
    "Pasamos a delitos originales, no reincidentes ni violentos."
   ]
  },
  {
   "cell_type": "code",
   "execution_count": 21,
   "id": "passing-humidity",
   "metadata": {},
   "outputs": [
    {
     "data": {
      "text/html": [
       "<div>\n",
       "<style scoped>\n",
       "    .dataframe tbody tr th:only-of-type {\n",
       "        vertical-align: middle;\n",
       "    }\n",
       "\n",
       "    .dataframe tbody tr th {\n",
       "        vertical-align: top;\n",
       "    }\n",
       "\n",
       "    .dataframe thead th {\n",
       "        text-align: right;\n",
       "    }\n",
       "</style>\n",
       "<table border=\"1\" class=\"dataframe\">\n",
       "  <thead>\n",
       "    <tr style=\"text-align: right;\">\n",
       "      <th></th>\n",
       "      <th>c_case_number</th>\n",
       "      <th>c_charge_degree</th>\n",
       "      <th>c_charge_desc</th>\n",
       "    </tr>\n",
       "  </thead>\n",
       "  <tbody>\n",
       "    <tr>\n",
       "      <th>count</th>\n",
       "      <td>9396</td>\n",
       "      <td>9396</td>\n",
       "      <td>9391</td>\n",
       "    </tr>\n",
       "    <tr>\n",
       "      <th>unique</th>\n",
       "      <td>9396</td>\n",
       "      <td>3</td>\n",
       "      <td>464</td>\n",
       "    </tr>\n",
       "    <tr>\n",
       "      <th>top</th>\n",
       "      <td>14011210CF10A</td>\n",
       "      <td>F</td>\n",
       "      <td>Battery</td>\n",
       "    </tr>\n",
       "    <tr>\n",
       "      <th>freq</th>\n",
       "      <td>1</td>\n",
       "      <td>6093</td>\n",
       "      <td>1724</td>\n",
       "    </tr>\n",
       "  </tbody>\n",
       "</table>\n",
       "</div>"
      ],
      "text/plain": [
       "        c_case_number c_charge_degree c_charge_desc\n",
       "count            9396            9396          9391\n",
       "unique           9396               3           464\n",
       "top     14011210CF10A               F       Battery\n",
       "freq                1            6093          1724"
      ]
     },
     "execution_count": 21,
     "metadata": {},
     "output_type": "execute_result"
    }
   ],
   "source": [
    "crime = [\"c_case_number\", \"c_charge_degree\",\"c_charge_desc\"]\n",
    "compas[crime].describe(include=\"object\")"
   ]
  },
  {
   "cell_type": "markdown",
   "id": "recovered-directive",
   "metadata": {},
   "source": [
    "Vemos que *c_case_number* es solo un identificador así que lo obviamos. *c_charge_degree* y *c_charge_desc* corresponden al grado y la descripción del delito original. Vamos a ver los niveles que hay y su frecuencia."
   ]
  },
  {
   "cell_type": "code",
   "execution_count": 22,
   "id": "lesser-measurement",
   "metadata": {},
   "outputs": [
    {
     "data": {
      "text/plain": [
       "c_charge_degree\n",
       "F    6093\n",
       "M    3296\n",
       "O       7\n",
       "Name: id, dtype: int64"
      ]
     },
     "execution_count": 22,
     "metadata": {},
     "output_type": "execute_result"
    }
   ],
   "source": [
    "compas.groupby([\"c_charge_degree\"])[\"id\"].count()"
   ]
  },
  {
   "cell_type": "markdown",
   "id": "electric-failing",
   "metadata": {},
   "source": [
    "La mayoría de delitos son de tipo F o \"Felony\" el tipo más grave, seguidos de M o \"Misdmeanor\" (grado medio, 1 año de cárcel) y O u \"ordinary\" (no requiere de cárcel por lo que se van a eliminar, según ProPublica)."
   ]
  },
  {
   "cell_type": "code",
   "execution_count": 23,
   "id": "divided-instruction",
   "metadata": {},
   "outputs": [
    {
     "data": {
      "text/plain": [
       "c_charge_desc\n",
       "Battery                          1724\n",
       "arrest case no charge            1243\n",
       "Grand Theft in the 3rd Degree     623\n",
       "Possession of Cocaine             622\n",
       "Driving While License Revoked     238\n",
       "Name: id, dtype: int64"
      ]
     },
     "execution_count": 23,
     "metadata": {},
     "output_type": "execute_result"
    }
   ],
   "source": [
    "compas = compas[compas.c_charge_degree != \"O\"]\n",
    "\n",
    "compas.groupby([\"c_charge_desc\"])[\"id\"].count().sort_values(ascending=False).head()"
   ]
  },
  {
   "cell_type": "code",
   "execution_count": 24,
   "id": "renewable-chance",
   "metadata": {
    "scrolled": false
   },
   "outputs": [
    {
     "data": {
      "image/png": "[encoded data removed]",
      "text/plain": [
       "<Figure size 640x480 with 1 Axes>"
      ]
     },
     "metadata": {},
     "output_type": "display_data"
    },
    {
     "data": {
      "text/plain": [
       "<ggplot: (-9223371918052527612)>"
      ]
     },
     "execution_count": 24,
     "metadata": {},
     "output_type": "execute_result"
    }
   ],
   "source": [
    "g_crime = pd.DataFrame(compas.groupby([\"c_charge_desc\"])[\"id\"].count().sort_values(ascending=False).head()).reset_index()\n",
    "\n",
    "ggplot(g_crime, aes(x=\"c_charge_desc\",y=\"id\")) + geom_bar(stat=\"identity\",fill='#f55656') +\\\n",
    "theme_bw() + labs(title=\"Delitos más comunes\") + xlab(\"Delito original\") +\\\n",
    "ylab(\"Número de casos\") + theme(axis_text_x = element_text(angle = 45))"
   ]
  },
  {
   "cell_type": "markdown",
   "id": "stuffed-smell",
   "metadata": {},
   "source": [
    "Vemos que los más comunes son *Battery* o asalto con agravantes seguido de arrestos sin cargos. Despúes vendrían robo en tercer grado y posesión de cocaína.\n",
    "\n",
    "Pasamos a delitos reincidentes."
   ]
  },
  {
   "cell_type": "code",
   "execution_count": 25,
   "id": "bright-stroke",
   "metadata": {},
   "outputs": [
    {
     "data": {
      "text/html": [
       "<div>\n",
       "<style scoped>\n",
       "    .dataframe tbody tr th:only-of-type {\n",
       "        vertical-align: middle;\n",
       "    }\n",
       "\n",
       "    .dataframe tbody tr th {\n",
       "        vertical-align: top;\n",
       "    }\n",
       "\n",
       "    .dataframe thead th {\n",
       "        text-align: right;\n",
       "    }\n",
       "</style>\n",
       "<table border=\"1\" class=\"dataframe\">\n",
       "  <thead>\n",
       "    <tr style=\"text-align: right;\">\n",
       "      <th></th>\n",
       "      <th>is_recid</th>\n",
       "      <th>r_charge_degree</th>\n",
       "      <th>r_charge_desc</th>\n",
       "      <th>type_of_assessment</th>\n",
       "    </tr>\n",
       "  </thead>\n",
       "  <tbody>\n",
       "    <tr>\n",
       "      <th>count</th>\n",
       "      <td>9389</td>\n",
       "      <td>9389</td>\n",
       "      <td>3140</td>\n",
       "      <td>9389</td>\n",
       "    </tr>\n",
       "    <tr>\n",
       "      <th>unique</th>\n",
       "      <td>3</td>\n",
       "      <td>3</td>\n",
       "      <td>329</td>\n",
       "      <td>1</td>\n",
       "    </tr>\n",
       "    <tr>\n",
       "      <th>top</th>\n",
       "      <td>0</td>\n",
       "      <td>O</td>\n",
       "      <td>Possess Cannabis/20 Grams Or Less</td>\n",
       "      <td>Risk of Recidivism</td>\n",
       "    </tr>\n",
       "    <tr>\n",
       "      <th>freq</th>\n",
       "      <td>6201</td>\n",
       "      <td>6204</td>\n",
       "      <td>248</td>\n",
       "      <td>9389</td>\n",
       "    </tr>\n",
       "  </tbody>\n",
       "</table>\n",
       "</div>"
      ],
      "text/plain": [
       "       is_recid r_charge_degree                      r_charge_desc  \\\n",
       "count      9389            9389                               3140   \n",
       "unique        3               3                                329   \n",
       "top           0               O  Possess Cannabis/20 Grams Or Less   \n",
       "freq       6201            6204                                248   \n",
       "\n",
       "        type_of_assessment  \n",
       "count                 9389  \n",
       "unique                   1  \n",
       "top     Risk of Recidivism  \n",
       "freq                  9389  "
      ]
     },
     "execution_count": 25,
     "metadata": {},
     "output_type": "execute_result"
    }
   ],
   "source": [
    "compas.loc[:,\"is_recid\"] = compas.loc[:,\"is_recid\"].astype(str).astype(object)\n",
    "reinc = [\"is_recid\",\"r_charge_degree\",\"r_charge_desc\",\"type_of_assessment\"]\n",
    "compas[reinc].describe(include=\"object\")"
   ]
  },
  {
   "cell_type": "markdown",
   "id": "entire-roads",
   "metadata": {},
   "source": [
    "Lo primero, vemos de el tipo de assessment sólo tiene un valor (que nos indica que la r es de reincidencia, confirmamos), por lo que la eliminamos."
   ]
  },
  {
   "cell_type": "code",
   "execution_count": 26,
   "id": "present-grounds",
   "metadata": {},
   "outputs": [],
   "source": [
    "compas = compas.drop(columns=[\"type_of_assessment\"])"
   ]
  },
  {
   "cell_type": "markdown",
   "id": "broke-trunk",
   "metadata": {},
   "source": [
    "Vemos que ahora los tipos de crímenes más comunes son los \"O\", es decir, las infracciones ordinarias. Las infracciones originales no requieren de cárcel y las eliminamos, pero por falta de información de infracciones reincidentes se van a dejar. Podemos ver cómo cambian los delitos originales a los reincidentes."
   ]
  },
  {
   "cell_type": "code",
   "execution_count": 27,
   "id": "relevant-tamil",
   "metadata": {},
   "outputs": [
    {
     "data": {
      "text/plain": [
       "r_charge_degree\n",
       "F    1024\n",
       "M    2161\n",
       "O    6204\n",
       "Name: id, dtype: int64"
      ]
     },
     "execution_count": 27,
     "metadata": {},
     "output_type": "execute_result"
    }
   ],
   "source": [
    "compas.groupby('r_charge_degree')[\"id\"].count()"
   ]
  },
  {
   "cell_type": "code",
   "execution_count": 28,
   "id": "mental-rally",
   "metadata": {},
   "outputs": [
    {
     "data": {
      "image/png": "[encoded data removed]",
      "text/plain": [
       "<Figure size 640x480 with 1 Axes>"
      ]
     },
     "metadata": {},
     "output_type": "display_data"
    },
    {
     "data": {
      "text/plain": [
       "<ggplot: (-9223371918053038032)>"
      ]
     },
     "execution_count": 28,
     "metadata": {},
     "output_type": "execute_result"
    }
   ],
   "source": [
    "ggplot(compas) + geom_bar(aes(x=\"c_charge_degree\"), fill='#5d85f5', position = position_nudge(x = 0.15), width=0.3) +\\\n",
    "geom_bar(aes(x=\"r_charge_degree\"), fill='#f66666', position = position_nudge(x = -0.15), width=0.3) +\\\n",
    "labs(title=\"Cambio de delitos antes y después de reincidir\") + xlab(\"Grado de delito\") + theme_bw()"
   ]
  },
  {
   "cell_type": "markdown",
   "id": "atomic-bristol",
   "metadata": {},
   "source": [
    "Vemos que los delitos originales (**azul**) son mayormente felonías (más graves). Los delitos reincidentes (**rojo**), al contrario, son en su mayoría infracciones leves.\n",
    "\n",
    "Las descripciones más comunes son:"
   ]
  },
  {
   "cell_type": "code",
   "execution_count": 29,
   "id": "defined-empire",
   "metadata": {},
   "outputs": [
    {
     "data": {
      "text/plain": [
       "r_charge_desc\n",
       "Possess Cannabis/20 Grams Or Less    248\n",
       "Driving License Suspended            246\n",
       "Resist/Obstruct W/O Violence         174\n",
       "Battery                              170\n",
       "Operating W/O Valid License          163\n",
       "Name: id, dtype: int64"
      ]
     },
     "execution_count": 29,
     "metadata": {},
     "output_type": "execute_result"
    }
   ],
   "source": [
    "compas.groupby([\"r_charge_desc\"])[\"id\"].count().sort_values(ascending=False).head()"
   ]
  },
  {
   "cell_type": "code",
   "execution_count": 30,
   "id": "abstract-nursing",
   "metadata": {},
   "outputs": [
    {
     "data": {
      "image/png": "[encoded data removed]",
      "text/plain": [
       "<Figure size 640x480 with 1 Axes>"
      ]
     },
     "metadata": {},
     "output_type": "display_data"
    },
    {
     "data": {
      "text/plain": [
       "<ggplot: (-9223371918052730008)>"
      ]
     },
     "execution_count": 30,
     "metadata": {},
     "output_type": "execute_result"
    }
   ],
   "source": [
    "g_crime_r = pd.DataFrame(compas.groupby([\"r_charge_desc\"])[\"id\"].count().sort_values(ascending=False).head()).reset_index()\n",
    "ggplot(g_crime_r, aes(x=\"r_charge_desc\",y=\"id\")) + geom_bar(stat=\"identity\",fill='#f55656') +\\\n",
    "theme_bw() + labs(title=\"Delitos reincidentes más comunes\") + xlab(\"Delito reincidente\") +\\\n",
    "ylab(\"Número de casos\") + theme(axis_text_x = element_text(angle = 45))"
   ]
  },
  {
   "cell_type": "markdown",
   "id": "formed-contact",
   "metadata": {},
   "source": [
    "Que como podemos suponer consisten en delitos menores. Ahora, la variable is recid tiene 3 niveles, que son:"
   ]
  },
  {
   "cell_type": "code",
   "execution_count": 31,
   "id": "indoor-brass",
   "metadata": {},
   "outputs": [
    {
     "data": {
      "text/plain": [
       "array(['0', '1', '-1'], dtype=object)"
      ]
     },
     "execution_count": 31,
     "metadata": {},
     "output_type": "execute_result"
    }
   ],
   "source": [
    "compas[\"is_recid\"].unique()"
   ]
  },
  {
   "cell_type": "markdown",
   "id": "former-pearl",
   "metadata": {},
   "source": [
    "Vamos a suponer que los valores -1 son nulos y nos vamos a quedar con el resto, 0 no reincidente y 1 reincidente."
   ]
  },
  {
   "cell_type": "code",
   "execution_count": 32,
   "id": "western-header",
   "metadata": {},
   "outputs": [],
   "source": [
    "compas = compas[compas.is_recid != \"-1\"]"
   ]
  },
  {
   "cell_type": "code",
   "execution_count": 33,
   "id": "employed-lyric",
   "metadata": {},
   "outputs": [
    {
     "data": {
      "image/png": "[encoded data removed]",
      "text/plain": [
       "<Figure size 640x480 with 1 Axes>"
      ]
     },
     "metadata": {},
     "output_type": "display_data"
    },
    {
     "data": {
      "text/plain": [
       "<ggplot: (-9223371918053120888)>"
      ]
     },
     "execution_count": 33,
     "metadata": {},
     "output_type": "execute_result"
    }
   ],
   "source": [
    "ggplot(compas) + geom_bar(aes(x=\"is_recid\"), fill='#f55656') +\\\n",
    "labs(title=\"Distribución de reincidentes\") + xlab(\"Reincidente (1-Sí, 0-No)\") + theme_bw()"
   ]
  },
  {
   "cell_type": "markdown",
   "id": "renewable-chapter",
   "metadata": {},
   "source": [
    "Podemos ver que la mayoría de convictos no son reincidentes. Pasamos a crímenes violentos y reincidentes violentos."
   ]
  },
  {
   "cell_type": "code",
   "execution_count": 34,
   "id": "ignored-wrong",
   "metadata": {},
   "outputs": [
    {
     "name": "stderr",
     "output_type": "stream",
     "text": [
      "D:\\ArchivosDePrograma\\Anaconda3\\envs\\ciencia_de_datos\\lib\\site-packages\\pandas\\core\\indexing.py:965: SettingWithCopyWarning: \n",
      "A value is trying to be set on a copy of a slice from a DataFrame.\n",
      "Try using .loc[row_indexer,col_indexer] = value instead\n",
      "\n",
      "See the caveats in the documentation: https://pandas.pydata.org/pandas-docs/stable/user_guide/indexing.html#returning-a-view-versus-a-copy\n",
      "  self.obj[item] = s\n"
     ]
    }
   ],
   "source": [
    "# no se por qué sale el warning si estoy usando el loc\n",
    "compas.loc[:,\"is_violent_recid\"] = compas.loc[:,\"is_violent_recid\"].astype(str).astype(object)"
   ]
  },
  {
   "cell_type": "code",
   "execution_count": 35,
   "id": "separate-prime",
   "metadata": {},
   "outputs": [
    {
     "data": {
      "text/html": [
       "<div>\n",
       "<style scoped>\n",
       "    .dataframe tbody tr th:only-of-type {\n",
       "        vertical-align: middle;\n",
       "    }\n",
       "\n",
       "    .dataframe tbody tr th {\n",
       "        vertical-align: top;\n",
       "    }\n",
       "\n",
       "    .dataframe thead th {\n",
       "        text-align: right;\n",
       "    }\n",
       "</style>\n",
       "<table border=\"1\" class=\"dataframe\">\n",
       "  <thead>\n",
       "    <tr style=\"text-align: right;\">\n",
       "      <th></th>\n",
       "      <th>is_violent_recid</th>\n",
       "      <th>vr_charge_degree</th>\n",
       "      <th>vr_charge_desc</th>\n",
       "      <th>v_type_of_assessment</th>\n",
       "    </tr>\n",
       "  </thead>\n",
       "  <tbody>\n",
       "    <tr>\n",
       "      <th>count</th>\n",
       "      <td>9388</td>\n",
       "      <td>744</td>\n",
       "      <td>744</td>\n",
       "      <td>9388</td>\n",
       "    </tr>\n",
       "    <tr>\n",
       "      <th>unique</th>\n",
       "      <td>2</td>\n",
       "      <td>9</td>\n",
       "      <td>86</td>\n",
       "      <td>1</td>\n",
       "    </tr>\n",
       "    <tr>\n",
       "      <th>top</th>\n",
       "      <td>0</td>\n",
       "      <td>(M1)</td>\n",
       "      <td>Battery</td>\n",
       "      <td>Risk of Violence</td>\n",
       "    </tr>\n",
       "    <tr>\n",
       "      <th>freq</th>\n",
       "      <td>8644</td>\n",
       "      <td>316</td>\n",
       "      <td>304</td>\n",
       "      <td>9388</td>\n",
       "    </tr>\n",
       "  </tbody>\n",
       "</table>\n",
       "</div>"
      ],
      "text/plain": [
       "       is_violent_recid vr_charge_degree vr_charge_desc v_type_of_assessment\n",
       "count              9388              744            744                 9388\n",
       "unique                2                9             86                    1\n",
       "top                   0             (M1)        Battery     Risk of Violence\n",
       "freq               8644              316            304                 9388"
      ]
     },
     "execution_count": 35,
     "metadata": {},
     "output_type": "execute_result"
    }
   ],
   "source": [
    "violent_r = [\"is_violent_recid\",\"vr_charge_degree\",\"vr_charge_desc\",\"v_type_of_assessment\"]\n",
    "compas[violent_r].describe(include=\"object\")"
   ]
  },
  {
   "cell_type": "markdown",
   "id": "boring-viewer",
   "metadata": {},
   "source": [
    "Lo primero vemos de nuevo que el tipo de assessment violento solo indica riesgo de violencia y lo eliminamos."
   ]
  },
  {
   "cell_type": "code",
   "execution_count": 36,
   "id": "horizontal-grounds",
   "metadata": {},
   "outputs": [],
   "source": [
    "compas = compas.drop(columns=[\"v_type_of_assessment\"])"
   ]
  },
  {
   "cell_type": "markdown",
   "id": "fifth-variable",
   "metadata": {},
   "source": [
    "Vamos a ver los niveles de las distintas variables."
   ]
  },
  {
   "cell_type": "code",
   "execution_count": 37,
   "id": "spatial-aurora",
   "metadata": {},
   "outputs": [
    {
     "name": "stdout",
     "output_type": "stream",
     "text": [
      "is_violent_recid\n",
      "0    8644\n",
      "1     744\n",
      "Name: id, dtype: int64 \n",
      "\n",
      "vr_charge_degree\n",
      "(M1)     316\n",
      "(F3)     204\n",
      "(F2)     142\n",
      "(F1)      38\n",
      "(M2)      18\n",
      "(F7)      18\n",
      "(MO3)      4\n",
      "(F6)       3\n",
      "(F5)       1\n",
      "Name: id, dtype: int64 \n",
      "\n",
      "vr_charge_desc\n",
      "Battery                           304\n",
      "Felony Battery (Dom Strang)        40\n",
      "Aggravated Assault W/Dead Weap     35\n",
      "Battery on Law Enforc Officer      33\n",
      "Aggrav Battery w/Deadly Weapon     33\n",
      "Name: id, dtype: int64\n"
     ]
    }
   ],
   "source": [
    "print(compas.groupby([\"is_violent_recid\"])[\"id\"].count().sort_values(ascending=False), \"\\n\")\n",
    "print(compas.groupby([\"vr_charge_degree\"])[\"id\"].count().sort_values(ascending=False), \"\\n\")\n",
    "print(compas.groupby([\"vr_charge_desc\"])[\"id\"].count().sort_values(ascending=False).head())"
   ]
  },
  {
   "cell_type": "markdown",
   "id": "olympic-xerox",
   "metadata": {},
   "source": [
    "Vemos que:\n",
    "\n",
    "* La mayoría de convictos no son reincidentes violentos (is_violent_recid=0). Al igual que los convictos no violentos, la mayoría no son reincidentes.\n",
    "* El mayor número de crímenes son delitos menores de primer grado (primer grado es más grave que tercero).\n",
    "* La mayoría de crímenes vuelven a ser asaltos físicos."
   ]
  },
  {
   "cell_type": "markdown",
   "id": "wired-crossing",
   "metadata": {},
   "source": [
    "### Variables de Score\n",
    "\n",
    "Aquí se encuentran las variables que codifican el riesgo de reincidencia de un preso y mediante las que un juez u otra autoridad determinará si aceptar la libertad condicional o no."
   ]
  },
  {
   "cell_type": "code",
   "execution_count": 38,
   "id": "about-tower",
   "metadata": {},
   "outputs": [
    {
     "name": "stdout",
     "output_type": "stream",
     "text": [
      "       decile_score score_text v_decile_score v_score_text decile_score.1\n",
      "count          9388       9380           9388         9387           9388\n",
      "unique           11          3             11            3             11\n",
      "top               1        Low              1          Low              1\n",
      "freq           2113       5367           2703         6405           2113\n"
     ]
    }
   ],
   "source": [
    "compas[[\"decile_score\",\"v_decile_score\",\"decile_score.1\"]] = compas[[\"decile_score\",\"v_decile_score\",\"decile_score.1\"]].astype(str).astype(object)\n",
    "score = [\"decile_score\",\"score_text\",\"v_decile_score\",\"v_score_text\",\"decile_score.1\"]\n",
    "print(compas[score].describe(include=\"object\"))\n",
    "\n",
    "compas[[\"decile_score\",\"v_decile_score\",\"decile_score.1\"]] = compas[[\"decile_score\",\"v_decile_score\",\"decile_score.1\"]].astype(str).astype(int)"
   ]
  },
  {
   "cell_type": "markdown",
   "id": "polished-parcel",
   "metadata": {},
   "source": [
    "Primero vamos a tratar las variables \"decile score\". Vemos que tienen 11 niveles, lo cual indica que va a haber uno de ellos (probablemente -1) que sean valores nulos."
   ]
  },
  {
   "cell_type": "code",
   "execution_count": 39,
   "id": "numeric-affairs",
   "metadata": {},
   "outputs": [
    {
     "data": {
      "text/plain": [
       "decile_score      8\n",
       "v_decile_score    1\n",
       "decile_score.1    8\n",
       "dtype: int64"
      ]
     },
     "execution_count": 39,
     "metadata": {},
     "output_type": "execute_result"
    }
   ],
   "source": [
    "compas[[\"decile_score\",\"v_decile_score\",\"decile_score.1\"]].apply(lambda x: sum(x<0))"
   ]
  },
  {
   "cell_type": "code",
   "execution_count": 40,
   "id": "honey-windsor",
   "metadata": {},
   "outputs": [],
   "source": [
    "compas = compas[(compas.decile_score != -1)&(compas.v_decile_score != -1)&(compas[\"decile_score.1\"] != -1)]"
   ]
  },
  {
   "cell_type": "markdown",
   "id": "varied-honduras",
   "metadata": {},
   "source": [
    "Vemos que sí hay valores nulos en los deciles. Tambíen nos podemos dar cuenta que \"decile_score\" y \"decile_score.1\" son iguales:"
   ]
  },
  {
   "cell_type": "code",
   "execution_count": 41,
   "id": "banner-power",
   "metadata": {},
   "outputs": [
    {
     "name": "stdout",
     "output_type": "stream",
     "text": [
      "Número de filas distintas entre columnas:  0\n"
     ]
    }
   ],
   "source": [
    "print(\"Número de filas distintas entre columnas: \",sum(compas[\"decile_score\"] != compas[\"decile_score.1\"]))\n",
    "compas = compas.drop(columns=[\"decile_score.1\"])"
   ]
  },
  {
   "cell_type": "markdown",
   "id": "cleared-convenience",
   "metadata": {},
   "source": [
    "Ahora vamos con las de texto:"
   ]
  },
  {
   "cell_type": "code",
   "execution_count": 42,
   "id": "following-craps",
   "metadata": {},
   "outputs": [
    {
     "name": "stdout",
     "output_type": "stream",
     "text": [
      "score_text\n",
      "Low       5367\n",
      "Medium    2336\n",
      "High      1677\n",
      "Name: id, dtype: int64 \n",
      "\n",
      "v_score_text\n",
      "Low       6400\n",
      "Medium    2119\n",
      "High       861\n",
      "Name: id, dtype: int64\n"
     ]
    }
   ],
   "source": [
    "print(compas.groupby([\"score_text\"])[\"id\"].count().sort_values(ascending=False), \"\\n\")\n",
    "print(compas.groupby([\"v_score_text\"])[\"id\"].count().sort_values(ascending=False))"
   ]
  },
  {
   "cell_type": "code",
   "execution_count": 43,
   "id": "nearby-pleasure",
   "metadata": {},
   "outputs": [
    {
     "data": {
      "image/png": "[encoded data removed]",
      "text/plain": [
       "<Figure size 640x480 with 1 Axes>"
      ]
     },
     "metadata": {},
     "output_type": "display_data"
    },
    {
     "data": {
      "text/plain": [
       "<ggplot: (-9223371918052312828)>"
      ]
     },
     "execution_count": 43,
     "metadata": {},
     "output_type": "execute_result"
    }
   ],
   "source": [
    "ggplot(compas) + geom_bar(aes(x=\"v_score_text\"), fill='#5d85f5', position = position_nudge(x = 0.15), width=0.3) +\\\n",
    "geom_bar(aes(x=\"score_text\"), fill='#f66666',position = position_nudge(x = -0.15), width=0.3) +\\\n",
    "labs(title=\"Convictos violentos tienen menor grado de riesgo de reincidencia\") +\\\n",
    "xlab(\"Riesgo de reincidencia\") + theme_bw()"
   ]
  },
  {
   "cell_type": "markdown",
   "id": "personal-gallery",
   "metadata": {},
   "source": [
    "Vemos que en la codificación de texto del score hay tres niveles: Bajo, Medio y Alto para el riesgo de reincidencia normal y violenta. La mayoría de ellos son de riesgo bajo, pero después lo mostraremos con otros factores. Vemos que los categorizados como violentos (**azul**) tienen valores mayores de riesgo bajo y menores de riesgo alto, al contrario que los convictos no violentos (**rojo**)."
   ]
  },
  {
   "cell_type": "markdown",
   "id": "removable-accused",
   "metadata": {},
   "source": [
    "## ¿Cómo se influyen las variables entre sí?\n",
    "\n",
    "Ya hemos descrito todas las variables que intervienen en el dataset. Ahora es turno de ver cómo estos datos determinan el nivel de scoring y por qué existe un debate abierto sobre la justicia del modelo, sobretodo en coste social.\n",
    "\n",
    "En primer lugar vamos a ver cómo reaccionan algunas variables sobre otras. "
   ]
  },
  {
   "cell_type": "markdown",
   "id": "hazardous-ethics",
   "metadata": {},
   "source": [
    "### Raza"
   ]
  },
  {
   "cell_type": "code",
   "execution_count": 44,
   "id": "dynamic-cincinnati",
   "metadata": {},
   "outputs": [
    {
     "data": {
      "image/png": "[encoded data removed]",
      "text/plain": [
       "<Figure size 640x480 with 1 Axes>"
      ]
     },
     "metadata": {},
     "output_type": "display_data"
    },
    {
     "data": {
      "text/plain": [
       "<ggplot: (-9223371918052499460)>"
      ]
     },
     "execution_count": 44,
     "metadata": {},
     "output_type": "execute_result"
    }
   ],
   "source": [
    "ggplot(compas) + geom_bar(aes(x=\"race\", fill=\"is_recid\"), position=\"dodge\") +\\\n",
    "labs(title=\"Los Af_Am tienen una tasa de reincidencia de más del doble que los Caucásicos\") +\\\n",
    "xlab(\"Raza\") + theme_bw()"
   ]
  },
  {
   "cell_type": "markdown",
   "id": "improved-metropolitan",
   "metadata": {},
   "source": [
    "Como se dice en el título, se ve claramente que los convictos de raza negra tienen una tasa de reincidencia de más del doble que los caucásicos. Este dato podría ser uno de los que provoca ese sesgo tan controvertido del que se habla."
   ]
  },
  {
   "cell_type": "code",
   "execution_count": 45,
   "id": "abstract-sunrise",
   "metadata": {},
   "outputs": [
    {
     "data": {
      "image/png": "[encoded data removed]",
      "text/plain": [
       "<Figure size 640x480 with 1 Axes>"
      ]
     },
     "metadata": {},
     "output_type": "display_data"
    },
    {
     "data": {
      "text/plain": [
       "<ggplot: (-9223371918052340236)>"
      ]
     },
     "execution_count": 45,
     "metadata": {},
     "output_type": "execute_result"
    }
   ],
   "source": [
    "ggplot(compas) + geom_bar(aes(x=\"race\", fill=\"is_violent_recid\"), position=\"dodge\") +\\\n",
    "labs(title=\"La reincidencia violenta también se duplica\") +\\\n",
    "xlab(\"Raza\") + theme_bw()"
   ]
  },
  {
   "cell_type": "markdown",
   "id": "liquid-placement",
   "metadata": {},
   "source": [
    "Se ve que la reincidencia violenta sigue siendo el doble para los afroamericanos. Más concretamente:"
   ]
  },
  {
   "cell_type": "code",
   "execution_count": 46,
   "id": "indoor-domain",
   "metadata": {},
   "outputs": [
    {
     "name": "stdout",
     "output_type": "stream",
     "text": [
      "La reincidencia 'normal' para los afroamericanos es 2.03 veces mayor\n",
      "La reincidencia 'violenta' para los afroamericanos es 2.37 veces mayor\n"
     ]
    }
   ],
   "source": [
    "ratio_norm = len(compas[(compas.race==\"Af_Am\")&(compas.is_recid==\"1\")])/len(compas[(compas.race==\"Cauc\")&(compas.is_recid==\"1\")])\n",
    "ratio_viol = len(compas[(compas.race==\"Af_Am\")&(compas.is_violent_recid==\"1\")])/len(compas[(compas.race==\"Cauc\")&(compas.is_violent_recid==\"1\")])\n",
    "\n",
    "print(\"La reincidencia 'normal' para los afroamericanos es {} veces mayor\".format(round(ratio_norm,2)))\n",
    "print(\"La reincidencia 'violenta' para los afroamericanos es {} veces mayor\".format(round(ratio_viol,2)))"
   ]
  },
  {
   "cell_type": "markdown",
   "id": "annoying-rebecca",
   "metadata": {},
   "source": [
    "Vemos que la diferencia es clara. Vamos a ver cómo se reparte en los grados de los delitos, primero los normales:"
   ]
  },
  {
   "cell_type": "code",
   "execution_count": 47,
   "id": "choice-design",
   "metadata": {},
   "outputs": [
    {
     "data": {
      "image/png": "[encoded data removed]",
      "text/plain": [
       "<Figure size 640x480 with 1 Axes>"
      ]
     },
     "metadata": {},
     "output_type": "display_data"
    },
    {
     "data": {
      "text/plain": [
       "<ggplot: (-9223371918052508272)>"
      ]
     },
     "execution_count": 47,
     "metadata": {},
     "output_type": "execute_result"
    }
   ],
   "source": [
    "ggplot(compas) + geom_bar(aes(x=\"c_charge_degree\", fill=\"race\"), position=\"dodge\") +\\\n",
    "labs(title=\"Los afroamericanos son mayoritarios en delitos graves\") + xlab(\"Grado de delito\") + theme_bw()"
   ]
  },
  {
   "cell_type": "markdown",
   "id": "chubby-imaging",
   "metadata": {},
   "source": [
    "Se ve que el número de afroamericanos en delitos graves (felonías) es mucho mayor. Sigamos con delitos reincidentes:"
   ]
  },
  {
   "cell_type": "code",
   "execution_count": 48,
   "id": "destroyed-investment",
   "metadata": {},
   "outputs": [
    {
     "data": {
      "image/png": "[encoded data removed]",
      "text/plain": [
       "<Figure size 640x480 with 1 Axes>"
      ]
     },
     "metadata": {},
     "output_type": "display_data"
    },
    {
     "data": {
      "text/plain": [
       "<ggplot: (-9223371918052138384)>"
      ]
     },
     "execution_count": 48,
     "metadata": {},
     "output_type": "execute_result"
    }
   ],
   "source": [
    "ggplot(compas) + geom_bar(aes(x=\"r_charge_degree\", fill=\"race\"), position=\"dodge\") +\\\n",
    "labs(title=\"Los ratios con reincidencia se mantienen\") + xlab(\"Grado de delito\") + theme_bw()"
   ]
  },
  {
   "cell_type": "markdown",
   "id": "respective-deployment",
   "metadata": {},
   "source": [
    "Parece que el delitos reincidentes no destaca ningún ratio, son parecidos en los tres niveles. Por último veamos los delitos reincidentes violentos:"
   ]
  },
  {
   "cell_type": "code",
   "execution_count": 49,
   "id": "empirical-microwave",
   "metadata": {},
   "outputs": [
    {
     "data": {
      "image/png": "[encoded data removed]",
      "text/plain": [
       "<Figure size 640x480 with 1 Axes>"
      ]
     },
     "metadata": {},
     "output_type": "display_data"
    },
    {
     "data": {
      "text/plain": [
       "<ggplot: (-9223371918051715100)>"
      ]
     },
     "execution_count": 49,
     "metadata": {},
     "output_type": "execute_result"
    }
   ],
   "source": [
    "ggplot(compas[- compas.vr_charge_degree.isna()]) + geom_bar(aes(x=\"vr_charge_degree\", fill=\"race\"), position=\"dodge\") +\\\n",
    "labs(title=\"Ratios altos de afroamericanos en los grados más graves\") + xlab(\"Grado de delito\") + theme_bw()"
   ]
  },
  {
   "cell_type": "markdown",
   "id": "stunning-raising",
   "metadata": {},
   "source": [
    "Se ve que la población negra es muy superior a la blanca en los grados F1-F3, los más graves, mientras que en F7-MO3 está mas igualado (en M1 no son el doble). Todas estas diferencias son las que aprenderá un modelo y el sesgo racista se manifestará en el scoring. Antes de continuar, nos fijamos en que la media del scoring violento es menor a la del scoring normal, ¿por qué ocurre esto?"
   ]
  },
  {
   "cell_type": "code",
   "execution_count": 50,
   "id": "fifty-finger",
   "metadata": {},
   "outputs": [
    {
     "name": "stdout",
     "output_type": "stream",
     "text": [
      "La media del decile score violento es 3.54 mientras que la del decile normal es 4.31\n"
     ]
    }
   ],
   "source": [
    "media_n = compas[\"decile_score\"].mean()\n",
    "media_v = compas[\"v_decile_score\"].mean()\n",
    "print(\"La media del decile score violento es {} mientras que la del decile normal es {}\".format(round(media_v,2),\n",
    "                                                                                                round(media_n,2)))"
   ]
  },
  {
   "cell_type": "markdown",
   "id": "dated-ceramic",
   "metadata": {},
   "source": [
    "¿Cómo es posible que la media de riesgo de convictos violentos sea menor que la normal? La lógica dictamina que en caso de violencia el modelo debería ser más estricto con el scoring, adaptándose y asignando una puntuación mayor. Hacemos una predicción y veamos cómo depende el scoring de la raza (una de las causas por las que realizamos este estudio)."
   ]
  },
  {
   "cell_type": "code",
   "execution_count": 51,
   "id": "complete-clone",
   "metadata": {},
   "outputs": [
    {
     "data": {
      "image/png": "[encoded data removed]",
      "text/plain": [
       "<Figure size 640x480 with 1 Axes>"
      ]
     },
     "metadata": {},
     "output_type": "display_data"
    },
    {
     "data": {
      "text/plain": [
       "<ggplot: (-9223371918051705280)>"
      ]
     },
     "execution_count": 51,
     "metadata": {},
     "output_type": "execute_result"
    }
   ],
   "source": [
    "ggplot(compas) + geom_bar(aes(x=\"decile_score\", fill=\"race\"), position=\"dodge\") +\\\n",
    "labs(title=\"Los caucásicos se agrupan en scores más bajos\") + xlab(\"Scores\") + theme_bw()"
   ]
  },
  {
   "cell_type": "markdown",
   "id": "reduced-executive",
   "metadata": {},
   "source": [
    "Vemos que los caucásicos se agrupan en torno a valores bajos de scoring, sobretodo el 1, y su frecuencia va disminuyendo a medida que el riesgo de reincidencia aumenta. Sin embargo, los convictos afroamericanos presentan una distribución más uniforme. Este comportamiento (más frecuencia en niveles altos) hace que la media total aumente. Vamos a ver el scoring violento."
   ]
  },
  {
   "cell_type": "code",
   "execution_count": 52,
   "id": "constitutional-aluminum",
   "metadata": {},
   "outputs": [
    {
     "data": {
      "image/png": "[encoded data removed]",
      "text/plain": [
       "<Figure size 640x480 with 1 Axes>"
      ]
     },
     "metadata": {},
     "output_type": "display_data"
    },
    {
     "data": {
      "text/plain": [
       "<ggplot: (-9223371918051300348)>"
      ]
     },
     "execution_count": 52,
     "metadata": {},
     "output_type": "execute_result"
    }
   ],
   "source": [
    "ggplot(compas) + geom_bar(aes(x=\"v_decile_score\", fill=\"race\"), position=\"dodge\") +\\\n",
    "labs(title=\"El scoring violento es menos estricto que el normal\") + xlab(\"Scores Violentos\") + theme_bw()"
   ]
  },
  {
   "cell_type": "markdown",
   "id": "super-nutrition",
   "metadata": {},
   "source": [
    "Ya vemos directamente la causa de esa diferencia. En este caso los convictos de raza negra tienen una distribución más parecida a los blancos. Sin embargo, aún presentan mucha más frecuencia en scorings altos. A pesar de ser un scoring para convictos violentos, el número de casos (sobretodo en caucásicos) en nivel 1 de riesgo (el más bajo) es muy superior al del scoring normal. Esto lleva totalmente la contraria a la lógica ya expuesta de que el scoring violento debería ser más estricto y asignar valores de riesgo mayores a los convitctos."
   ]
  },
  {
   "cell_type": "code",
   "execution_count": 53,
   "id": "discrete-exhibition",
   "metadata": {},
   "outputs": [
    {
     "name": "stdout",
     "output_type": "stream",
     "text": [
      "El ratio de caucásicos respecto del total para un riesgo alto es del 20.88%\n"
     ]
    }
   ],
   "source": [
    "degree_n = (len(compas[(compas.score_text==\"High\")&(compas.race==\"Cauc\")])\n",
    "/(len(compas[(compas.score_text==\"High\")&(compas.race==\"Af_Am\")]) + len(compas[(compas.score_text==\"High\")&(compas.race==\"Cauc\")])))\n",
    "\n",
    "degree_n *= 100\n",
    "print(\"El ratio de caucásicos respecto del total para un riesgo alto es del {}%\".format(round(degree_n,2)))"
   ]
  },
  {
   "cell_type": "markdown",
   "id": "shared-proxy",
   "metadata": {},
   "source": [
    "Si el porcentaje de caucásicos con riesgo alto es 20.88%, significa que el de afroamericanos es 79.12%. Como sabemos, el score_text es la predicción del modelo para el riesgo de reincidencia, una probabilidad. Según esto, tenemos que los afroamericanos tienen 3.8 veces más probabilidad de reincidir que los caucásicos (según el modelo). Es una diferencia notable. Vamos a ver con el scoring violento:"
   ]
  },
  {
   "cell_type": "code",
   "execution_count": 54,
   "id": "express-syracuse",
   "metadata": {},
   "outputs": [
    {
     "name": "stdout",
     "output_type": "stream",
     "text": [
      "El ratio de caucásicos respecto del total para un riesgo alto es del 17.77%\n"
     ]
    }
   ],
   "source": [
    "degree_v = (len(compas[(compas.v_score_text==\"High\")&(compas.race==\"Cauc\")])\n",
    "/(len(compas[(compas.v_score_text==\"High\")&(compas.race==\"Af_Am\")]) + len(compas[(compas.v_score_text==\"High\")&(compas.race==\"Cauc\")])))\n",
    "\n",
    "degree_v *= 100\n",
    "print(\"El ratio de caucásicos respecto del total para un riesgo alto es del {}%\".format(round(degree_v,2)))"
   ]
  },
  {
   "cell_type": "markdown",
   "id": "legendary-pastor",
   "metadata": {},
   "source": [
    "Ahora tenemos que los caucásicos tienen un 17.77% de reincidir violentamente, lo que deja un 82.23% a los afroamericanos. Esto supone que este último colectivo tiene 4.6 veces más probabilidad de reincidir violentamente (según el modelo). La brecha entre razas ha crecido."
   ]
  },
  {
   "cell_type": "markdown",
   "id": "behind-sheet",
   "metadata": {},
   "source": [
    "Para ver cómo de preciso ha sido el modelo vamos a construir una matriz de confusión. Vamos a realizarla primero para la reincidencia normal."
   ]
  },
  {
   "cell_type": "code",
   "execution_count": 55,
   "id": "european-intro",
   "metadata": {},
   "outputs": [
    {
     "name": "stdout",
     "output_type": "stream",
     "text": [
      "White\n",
      "actual_recid  False  True \n",
      "pred_recid                \n",
      "False          1749    475\n",
      "True            569    454\n",
      "\n",
      "Black\n",
      "actual_recid  False  True \n",
      "pred_recid                \n",
      "False          1465    560\n",
      "True           1316   1330\n"
     ]
    }
   ],
   "source": [
    "# Determinamos las predicciones y los valores reales\n",
    "compas[\"pred_recid\"] = compas[\"score_text\"] != \"Low\"\n",
    "compas[\"actual_recid\"] = compas[\"is_recid\"] == \"1\"\n",
    "\n",
    "# Primero dividimos a los convictos de raza negra de los de raza blanca\n",
    "w_subset = compas[compas.race==\"Cauc\"]\n",
    "b_subset = compas[compas.race==\"Af_Am\"]\n",
    "\n",
    "print(\"White\")\n",
    "print(pd.crosstab(w_subset.pred_recid, w_subset.actual_recid))\n",
    "print(\"\\nBlack\")\n",
    "print(pd.crosstab(b_subset.pred_recid, b_subset.actual_recid))"
   ]
  },
  {
   "cell_type": "markdown",
   "id": "arbitrary-utilization",
   "metadata": {},
   "source": [
    "Nos vamos a fijar en los falsos positivos, que se encuentran cuando el *pred_recid* muestra **True**, pero el *actual_recid* es **False**. Vemos que en raza blanca es de 569 casos y en raza negra de 1316. El número en sí ya muestra una disparidad pero vamos a calcular el ratio para poder comparar."
   ]
  },
  {
   "cell_type": "code",
   "execution_count": 56,
   "id": "wrapped-logic",
   "metadata": {},
   "outputs": [
    {
     "name": "stdout",
     "output_type": "stream",
     "text": [
      "El ratio de falsos positivos para caucásicos es de 24.55%, mientras que para afroamericanos es de 47.32%\n"
     ]
    }
   ],
   "source": [
    "ratio_w = round((569/(569+1749))*100,2)\n",
    "ratio_b = round((1316/(1316+1465))*100,2)\n",
    "\n",
    "print(\"El ratio de falsos positivos para caucásicos es de {}%, mientras que para afroamericanos es de {}%\".format(ratio_w, ratio_b))"
   ]
  },
  {
   "cell_type": "markdown",
   "id": "innovative-creation",
   "metadata": {},
   "source": [
    "Vemos que la probabilidad de que el modelo clasifique a un afroamericano erróneamente de alto riesgo es de casi el doble. De la misma manera lo podemos calcular para los falsos negativos."
   ]
  },
  {
   "cell_type": "code",
   "execution_count": 57,
   "id": "major-emphasis",
   "metadata": {},
   "outputs": [
    {
     "name": "stdout",
     "output_type": "stream",
     "text": [
      "El ratio de falsos negativos para caucásicos es de 51.13%, mientras que para afroamericanos es de 29.63%\n"
     ]
    }
   ],
   "source": [
    "ratio_w = round((475/(475+454))*100,2)\n",
    "ratio_b = round((560/(560+1330))*100,2)\n",
    "\n",
    "print(\"El ratio de falsos negativos para caucásicos es de {}%, mientras que para afroamericanos es de {}%\".format(ratio_w, ratio_b))"
   ]
  },
  {
   "cell_type": "markdown",
   "id": "selected-vietnam",
   "metadata": {},
   "source": [
    "En este caso pasa al contrario. El modelo califica erróneamente como bajo riesgo a casi el doble de caucásicos que de afroamericanos.\n",
    "\n",
    "Vistos estos resultados vamos a ver qué ocurre con la reincidencia violenta."
   ]
  },
  {
   "cell_type": "code",
   "execution_count": 58,
   "id": "sized-lambda",
   "metadata": {},
   "outputs": [
    {
     "name": "stdout",
     "output_type": "stream",
     "text": [
      "White\n",
      "actual_recid_v  False  True \n",
      "pred_recid_v                \n",
      "False            2459    127\n",
      "True              592     69\n",
      "\n",
      "Black\n",
      "actual_recid_v  False  True \n",
      "pred_recid_v                \n",
      "False            2484    178\n",
      "True             1723    286\n"
     ]
    }
   ],
   "source": [
    "# Determinamos las predicciones y los valores reales\n",
    "compas[\"pred_recid_v\"] = compas[\"v_score_text\"] != \"Low\"\n",
    "compas[\"actual_recid_v\"] = compas[\"is_violent_recid\"] == \"1\"\n",
    "\n",
    "# Dividimos a los convictos de raza negra de los de raza blanca\n",
    "w_subset = compas[compas.race==\"Cauc\"]\n",
    "b_subset = compas[compas.race==\"Af_Am\"]\n",
    "\n",
    "print(\"White\")\n",
    "print(pd.crosstab(w_subset.pred_recid_v, w_subset.actual_recid_v))\n",
    "print(\"\\nBlack\")\n",
    "print(pd.crosstab(b_subset.pred_recid_v, b_subset.actual_recid_v))"
   ]
  },
  {
   "cell_type": "code",
   "execution_count": 59,
   "id": "placed-amazon",
   "metadata": {},
   "outputs": [
    {
     "name": "stdout",
     "output_type": "stream",
     "text": [
      "El ratio de falsos positivos para caucásicos es de 19.4%, mientras que para afroamericanos es de 40.96%\n"
     ]
    }
   ],
   "source": [
    "ratio_v_w = round((592/(592+2459))*100,2)\n",
    "ratio_v_b = round((1723/(1723+2484))*100,2)\n",
    "\n",
    "print(\"El ratio de falsos positivos para caucásicos es de {}%, mientras que para afroamericanos es de {}%\".format(ratio_v_w, ratio_v_b))"
   ]
  },
  {
   "cell_type": "markdown",
   "id": "decimal-violation",
   "metadata": {},
   "source": [
    "Vemos que para el caso de reincidentes violentos las diferencias son parecidas. El modelo clasifica erróneamente como alto riesgo al doble de afroamericanos que de caucásicos."
   ]
  },
  {
   "cell_type": "code",
   "execution_count": 60,
   "id": "tropical-husband",
   "metadata": {},
   "outputs": [
    {
     "name": "stdout",
     "output_type": "stream",
     "text": [
      "El ratio de falsos negativos para caucásicos es de 64.8%, mientras que para afroamericanos es de 38.36%\n"
     ]
    }
   ],
   "source": [
    "ratio_v_w = round((127/(127+69))*100,2)\n",
    "ratio_v_b = round((178/(178+286))*100,2)\n",
    "\n",
    "print(\"El ratio de falsos negativos para caucásicos es de {}%, mientras que para afroamericanos es de {}%\".format(ratio_v_w, ratio_v_b))"
   ]
  },
  {
   "cell_type": "markdown",
   "id": "prime-garbage",
   "metadata": {},
   "source": [
    "Determinamos que los resultados vuelven a ser parecidos a los reincidentes normales. El modelo clasifica erróneamente como bajo riesgo a algo menos del doble de caucásicos que de afroamericanos."
   ]
  },
  {
   "cell_type": "markdown",
   "id": "manual-fetish",
   "metadata": {},
   "source": [
    "### Edad\n",
    "\n",
    "Para estudiar la edad vamos a ver cómo influencia esta a las variables de score y a la de reincidencia."
   ]
  },
  {
   "cell_type": "code",
   "execution_count": 61,
   "id": "greenhouse-northern",
   "metadata": {},
   "outputs": [
    {
     "data": {
      "image/png": "[encoded data removed]",
      "text/plain": [
       "<Figure size 640x480 with 1 Axes>"
      ]
     },
     "metadata": {},
     "output_type": "display_data"
    },
    {
     "data": {
      "text/plain": [
       "<ggplot: (-9223371918051251080)>"
      ]
     },
     "execution_count": 61,
     "metadata": {},
     "output_type": "execute_result"
    }
   ],
   "source": [
    "edad_recid = compas.groupby(\"age\", as_index=False)[[\"actual_recid\", \"pred_recid\"]].mean()\n",
    "ggplot(edad_recid[edad_recid.age<75]) + geom_line(aes(x=\"age\",y=\"actual_recid\"), color=\"red\") +\\\n",
    "geom_line(aes(x=\"age\",y=\"pred_recid\"), color=\"blue\") +\\\n",
    "labs(title=\"La reincidencia baja con la edad\") + xlab(\"Edad\") + ylab(\"Media Reincidenci\") +\\\n",
    "theme_bw() "
   ]
  },
  {
   "cell_type": "markdown",
   "id": "unsigned-circular",
   "metadata": {},
   "source": [
    "Al comparar ambas variables, la de reincidencia real (**roja**) y la predicha (**azul**), vemos varias tendencias por tramos (se ha cortado la edad a 75 años para evitar ruido producido por falta de datos). En primer lugar, vemos que para edades bajas, por debajo de los 35 años, las predicciones estiman valores muy superiores de reincidencia que los reales, lo que podría provocar que convictos jóvenes sean más frecuentemente denegados una posible libertad condicional. Al contrario, a partir de 35 parece que las predicciones se ajustan bien a los datos reales. En general se ve una tendencia clara, la probabilidad de reincidir disminuye con la edad. También podemos estudiar la reincidencia violenta."
   ]
  },
  {
   "cell_type": "code",
   "execution_count": 62,
   "id": "continental-reunion",
   "metadata": {},
   "outputs": [
    {
     "data": {
      "image/png": "[encoded data removed]",
      "text/plain": [
       "<Figure size 640x480 with 1 Axes>"
      ]
     },
     "metadata": {},
     "output_type": "display_data"
    },
    {
     "data": {
      "text/plain": [
       "<ggplot: (-9223371918051220088)>"
      ]
     },
     "execution_count": 62,
     "metadata": {},
     "output_type": "execute_result"
    }
   ],
   "source": [
    "edad_recid_v = compas.groupby(\"age\", as_index=False)[[\"actual_recid_v\", \"pred_recid_v\"]].mean()\n",
    "ggplot(edad_recid_v[edad_recid_v.age<75]) + geom_line(aes(x=\"age\",y=\"actual_recid_v\"), color=\"red\") +\\\n",
    "geom_line(aes(x=\"age\",y=\"pred_recid_v\"), color=\"blue\") +\\\n",
    "labs(title=\"'Sobre-Predicciones' hasta los 50 años\") + xlab(\"Edad\") + ylab(\"Media Reincidencia Violenta\") +\\\n",
    "theme_bw()"
   ]
  },
  {
   "cell_type": "markdown",
   "id": "spare-manhattan",
   "metadata": {},
   "source": [
    "En este caso vemos una tendencia más drástica. Hasta los 50 años la diferencia entre las predicciones de reincidencia violenta (**azul**) son mucho más altas que los valores reales (**rojo**). A pesar de la diferencia, este patrón seguiría el argumento de la lógica de ser más estrictos con reincidencias violentas, por lo que podría ser útil."
   ]
  },
  {
   "cell_type": "markdown",
   "id": "miniature-bulgarian",
   "metadata": {},
   "source": [
    "### Al final, ¿disminuye la reincidencia con el tiempo?\n",
    "\n",
    "El objetivo de un modelo que prediga la reincidencia es que esta última decrezca con el tiempo hasta que se erradique, es decir, que los convictos que consigan su libertad no vuelvan a delinquir. Vamos a ver si la reincidencia baja con el tiempo."
   ]
  },
  {
   "cell_type": "code",
   "execution_count": 63,
   "id": "suspended-generator",
   "metadata": {},
   "outputs": [
    {
     "data": {
      "image/png": "[encoded data removed]",
      "text/plain": [
       "<Figure size 640x480 with 1 Axes>"
      ]
     },
     "metadata": {},
     "output_type": "display_data"
    },
    {
     "data": {
      "text/plain": [
       "<ggplot: (-9223371918051213688)>"
      ]
     },
     "execution_count": 63,
     "metadata": {},
     "output_type": "execute_result"
    }
   ],
   "source": [
    "date_recid = compas.groupby(\"compas_screening_date\", as_index=False)[[\"pred_recid\", \"actual_recid\"]].mean()\n",
    "ggplot(date_recid[::10]) + geom_line(aes(x=\"compas_screening_date\",y=\"pred_recid\"), color=\"blue\") +\\\n",
    "geom_line(aes(x=\"compas_screening_date\",y=\"actual_recid\"), color=\"red\") +\\\n",
    "labs(title=\"Evolución del riesgo de riesgo con el tiempo\") + xlab(\"Fechas\") + ylab(\"Media Riesgo\") +\\\n",
    "theme_bw() + theme(axis_text_x = element_text(angle = 30))"
   ]
  },
  {
   "cell_type": "markdown",
   "id": "occupied-blame",
   "metadata": {},
   "source": [
    "Como fechas se han usado las mismas fechas de assesment COMPAS. Es notable comentar el ruido de esta gráfica, pero se pueden extraer conclusiones cualitativas. A pesar de que los valores de predicción (**azul**) parece que se mantienen constantes, los valores reales de reincidencia (**rojo**) tienen una ligera tendencia descendente a partir de finales de 2013. El incremento de ruido y las diferencias entre real y predicción en torno a julio de 2013 se deben a falta de datos."
   ]
  },
  {
   "cell_type": "markdown",
   "id": "offshore-judges",
   "metadata": {},
   "source": [
    "## Conclusiones\n",
    "\n",
    "Vamos a dar las conclusiones por las tres variables \"independientes\" que hemos estudiado.\n",
    "\n",
    "**RAZA**:\n",
    "\n",
    "* La reincidencia (normal y violenta) para convictos de raza negra es el doble de frecuente que para caucásicos. Además, en los delitos más graves (Felonías) suelen ser más frecuentes los afroamericanos.\n",
    "* La media del scoring violento es menor que la del normal. Esto se debe a que los convictos afroamericanos tienen más probabilidad de recibir un scoring elevado en comparación con los caucásicos (y resto de etnias).\n",
    "* Según el modelo, los convictos afroamericanos son 3.8 (para el normal) y 4.6 (para el violento) veces más probables de obtener un scoring de riesgo elevado de reincidencia.\n",
    "* Para reincidencia normal y violenta, la probabilidad de que el modelo clasifique erróneamente (falsos positivos) a un afroamericano como alto riesgo es del doble que aun caucásico. Al mismo tiempo, la probabilidad de clasificar a un caucásico como bajo riesgo (falsos negativos) es de casi el doble que aun afroamericano.\n",
    "\n",
    "**EDAD**\n",
    "\n",
    "* En el caso de reincidencia normal, el modelo estima valores de reincidencia superiores a los reales para los convictos de menos de 35 años, mientras que de esa edad en adelante sí ajusta bien. Esto provoca que los convictos más jóvenes sean más probables de recibir un riesgo de reincidencia alto.\n",
    "* En el caso de reincidencia violenta el gap es aún mayor. El modelo sobrestima el riesgo de los convictos hasta los 50 años. Sin embargo, al ser reincidencia violenta este aumento del riesgo puede llegar a ser útil a la hora de ser más estricto con los veredictos de libertad condicional.\n",
    "\n",
    "**TIEMPO**\n",
    "\n",
    "* Al estudiar la evolución de la reincidencia con el tiempo se observa un ligero decrecimiento de esta a partir de finales de 2013 y principios de 2014.\n",
    "\n",
    "Como conclusión general aparte de las ya mencionadas, considero que un scoring que se basa en deciles no representa fielmente el riesgo de reincidencia de un convicto. Esta métrica representa un ranking de riesgo que puede verse afectado por diversos factores, desde el número de convictos hasta el grado que se le asigne a cada uno. Como ejemplo, imaginamos un preso que va a reincidir, pero se le estima un scoring más bajo que al 50% de los presos. Esto hará que este convicto pueda tener altas probabilidades de obtener la libertad. A mi juicio, un scoring numérico (no por deciles) sería una medida más fiable."
   ]
  }
 ],
 "metadata": {
  "kernelspec": {
   "display_name": "Python [conda env:ciencia_de_datos] *",
   "language": "python",
   "name": "conda-env-ciencia_de_datos-py"
  },
  "language_info": {
   "codemirror_mode": {
    "name": "ipython",
    "version": 3
   },
   "file_extension": ".py",
   "mimetype": "text/x-python",
   "name": "python",
   "nbconvert_exporter": "python",
   "pygments_lexer": "ipython3",
   "version": "3.7.10"
  }
 },
 "nbformat": 4,
 "nbformat_minor": 5
}
